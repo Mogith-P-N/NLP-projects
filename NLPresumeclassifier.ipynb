{
 "cells": [
  {
   "cell_type": "markdown",
   "id": "f55f9686",
   "metadata": {},
   "source": [
    "Create an application that should be used by the HR Team to filter the resume based on the Skills.\n",
    " We are going to use a dataset from kaggle and then to clean and pre-process it to fit a suitable classification model in order to assist the HR team\n",
    " to filter resume based on the job-role. "
   ]
  },
  {
   "cell_type": "code",
   "execution_count": 3,
   "id": "dc704a71",
   "metadata": {},
   "outputs": [],
   "source": [
    "import spacy #using spacy module for vectorization\n",
    "nlp= spacy.load('en_core_web_lg') #en_core_web_lg is the pre-trained model by spacy"
   ]
  },
  {
   "cell_type": "code",
   "execution_count": 31,
   "id": "b01dfcd4",
   "metadata": {},
   "outputs": [],
   "source": [
    "import pandas as pd\n",
    "import numpy as np\n",
    "import re\n",
    "import string\n",
    "import unidecode"
   ]
  },
  {
   "cell_type": "code",
   "execution_count": 49,
   "id": "d41aa853",
   "metadata": {},
   "outputs": [
    {
     "name": "stderr",
     "output_type": "stream",
     "text": [
      "[nltk_data] Downloading package stopwords to\n",
      "[nltk_data]     C:\\Users\\mogit\\AppData\\Roaming\\nltk_data...\n",
      "[nltk_data]   Unzipping corpora\\stopwords.zip.\n"
     ]
    },
    {
     "data": {
      "text/plain": [
       "True"
      ]
     },
     "execution_count": 49,
     "metadata": {},
     "output_type": "execute_result"
    }
   ],
   "source": [
    "import nltk\n",
    "from nltk.corpus import stopwords\n",
    "nltk.download('stopwords')"
   ]
  },
  {
   "cell_type": "code",
   "execution_count": 6,
   "id": "d86bfdd2",
   "metadata": {},
   "outputs": [],
   "source": [
    "df=pd.read_csv(\"UpdatedResumeDataSet.csv\") #dataset downloaded from the kaggle \"https://www.kaggle.com/datasets/jillanisofttech/updated-resume-dataset\""
   ]
  },
  {
   "cell_type": "code",
   "execution_count": 11,
   "id": "dd5c4b67",
   "metadata": {},
   "outputs": [
    {
     "data": {
      "text/plain": [
       "(962, 2)"
      ]
     },
     "execution_count": 11,
     "metadata": {},
     "output_type": "execute_result"
    }
   ],
   "source": [
    "df.shape"
   ]
  },
  {
   "cell_type": "code",
   "execution_count": 12,
   "id": "f88ecf09",
   "metadata": {},
   "outputs": [
    {
     "data": {
      "text/html": [
       "<div>\n",
       "<style scoped>\n",
       "    .dataframe tbody tr th:only-of-type {\n",
       "        vertical-align: middle;\n",
       "    }\n",
       "\n",
       "    .dataframe tbody tr th {\n",
       "        vertical-align: top;\n",
       "    }\n",
       "\n",
       "    .dataframe thead th {\n",
       "        text-align: right;\n",
       "    }\n",
       "</style>\n",
       "<table border=\"1\" class=\"dataframe\">\n",
       "  <thead>\n",
       "    <tr style=\"text-align: right;\">\n",
       "      <th></th>\n",
       "      <th>Category</th>\n",
       "      <th>Resume</th>\n",
       "    </tr>\n",
       "  </thead>\n",
       "  <tbody>\n",
       "    <tr>\n",
       "      <th>0</th>\n",
       "      <td>Data Science</td>\n",
       "      <td>Skills * Programming Languages: Python (pandas...</td>\n",
       "    </tr>\n",
       "    <tr>\n",
       "      <th>1</th>\n",
       "      <td>Data Science</td>\n",
       "      <td>Education Details \\r\\nMay 2013 to May 2017 B.E...</td>\n",
       "    </tr>\n",
       "    <tr>\n",
       "      <th>2</th>\n",
       "      <td>Data Science</td>\n",
       "      <td>Areas of Interest Deep Learning, Control Syste...</td>\n",
       "    </tr>\n",
       "    <tr>\n",
       "      <th>3</th>\n",
       "      <td>Data Science</td>\n",
       "      <td>Skills â¢ R â¢ Python â¢ SAP HANA â¢ Table...</td>\n",
       "    </tr>\n",
       "    <tr>\n",
       "      <th>4</th>\n",
       "      <td>Data Science</td>\n",
       "      <td>Education Details \\r\\n MCA   YMCAUST,  Faridab...</td>\n",
       "    </tr>\n",
       "  </tbody>\n",
       "</table>\n",
       "</div>"
      ],
      "text/plain": [
       "       Category                                             Resume\n",
       "0  Data Science  Skills * Programming Languages: Python (pandas...\n",
       "1  Data Science  Education Details \\r\\nMay 2013 to May 2017 B.E...\n",
       "2  Data Science  Areas of Interest Deep Learning, Control Syste...\n",
       "3  Data Science  Skills â¢ R â¢ Python â¢ SAP HANA â¢ Table...\n",
       "4  Data Science  Education Details \\r\\n MCA   YMCAUST,  Faridab..."
      ]
     },
     "execution_count": 12,
     "metadata": {},
     "output_type": "execute_result"
    }
   ],
   "source": [
    "df.head()\n"
   ]
  },
  {
   "cell_type": "code",
   "execution_count": 54,
   "id": "b785635e",
   "metadata": {},
   "outputs": [
    {
     "data": {
      "text/plain": [
       "Java Developer               84\n",
       "Testing                      70\n",
       "DevOps Engineer              55\n",
       "Python Developer             48\n",
       "Web Designing                45\n",
       "HR                           44\n",
       "Hadoop                       42\n",
       "Blockchain                   40\n",
       "ETL Developer                40\n",
       "Operations Manager           40\n",
       "Data Science                 40\n",
       "Sales                        40\n",
       "Mechanical Engineer          40\n",
       "Arts                         36\n",
       "Database                     33\n",
       "Electrical Engineering       30\n",
       "Health and fitness           30\n",
       "PMO                          30\n",
       "Business Analyst             28\n",
       "DotNet Developer             28\n",
       "Automation Testing           26\n",
       "Network Security Engineer    25\n",
       "SAP Developer                24\n",
       "Civil Engineer               24\n",
       "Advocate                     20\n",
       "Name: Category, dtype: int64"
      ]
     },
     "execution_count": 54,
     "metadata": {},
     "output_type": "execute_result"
    }
   ],
   "source": [
    "df.Category.value_counts()"
   ]
  },
  {
   "cell_type": "code",
   "execution_count": 50,
   "id": "ed14220b",
   "metadata": {},
   "outputs": [],
   "source": [
    "#we need to pre-process and clean the data\n",
    "def clean_words(text):\n",
    "    \"\"\"Basic cleaning of texts\"\"\"\n",
    "    \n",
    "    # remove html\n",
    "    text=re.sub(\"(<.*?>)\",\"\",text)\n",
    "    \n",
    "    #remove non-ascii and digits\n",
    "    text=re.sub(\"(\\\\W|\\\\d)\",\" \",text)\n",
    "    \n",
    "    #remove whitespace\n",
    "    text=text.strip()\n",
    "    \n",
    "    #removing single charcters pattern\n",
    "    text=re.sub(pattern='\\s+[a-zA-Z]\\s+' ,repl=\" \", string=text)\n",
    "    \n",
    "    #remove accented characters\n",
    "    text=unidecode.unidecode(text) #we have accented characters like a^ etc, so to remove that we are performing \n",
    "    \n",
    "    #to make words into lowercase\n",
    "    text=text.lower()\n",
    "    \n",
    "    #removing stop words from the paragraph\n",
    "    words = [word for word in text.split() if word.lower() not in stopwords.words('english')]\n",
    "    text = \" \".join(words)\n",
    "    \n",
    "    #here we are avoiding tokenization since the spacy's model takes string or doc as input not list of words\n",
    "    # also we are not performing stemming and lemmatization since it will change the context of skills and other words in resume text\n",
    "    \n",
    "    \n",
    "    return text"
   ]
  },
  {
   "cell_type": "code",
   "execution_count": 56,
   "id": "b3c2a447",
   "metadata": {},
   "outputs": [],
   "source": [
    "df['cleaned_text']=df.Resume.map(lambda x: clean_words(x))"
   ]
  },
  {
   "cell_type": "code",
   "execution_count": 57,
   "id": "bde824f1",
   "metadata": {},
   "outputs": [
    {
     "data": {
      "text/html": [
       "<div>\n",
       "<style scoped>\n",
       "    .dataframe tbody tr th:only-of-type {\n",
       "        vertical-align: middle;\n",
       "    }\n",
       "\n",
       "    .dataframe tbody tr th {\n",
       "        vertical-align: top;\n",
       "    }\n",
       "\n",
       "    .dataframe thead th {\n",
       "        text-align: right;\n",
       "    }\n",
       "</style>\n",
       "<table border=\"1\" class=\"dataframe\">\n",
       "  <thead>\n",
       "    <tr style=\"text-align: right;\">\n",
       "      <th></th>\n",
       "      <th>Category</th>\n",
       "      <th>Resume</th>\n",
       "      <th>cleaned_text</th>\n",
       "    </tr>\n",
       "  </thead>\n",
       "  <tbody>\n",
       "    <tr>\n",
       "      <th>0</th>\n",
       "      <td>Data Science</td>\n",
       "      <td>Skills * Programming Languages: Python (pandas...</td>\n",
       "      <td>skills programming languages python pandas num...</td>\n",
       "    </tr>\n",
       "    <tr>\n",
       "      <th>1</th>\n",
       "      <td>Data Science</td>\n",
       "      <td>Education Details \\r\\nMay 2013 to May 2017 B.E...</td>\n",
       "      <td>education details may may e uit rgpv data scie...</td>\n",
       "    </tr>\n",
       "    <tr>\n",
       "      <th>2</th>\n",
       "      <td>Data Science</td>\n",
       "      <td>Areas of Interest Deep Learning, Control Syste...</td>\n",
       "      <td>areas interest deep learning control system de...</td>\n",
       "    </tr>\n",
       "    <tr>\n",
       "      <th>3</th>\n",
       "      <td>Data Science</td>\n",
       "      <td>Skills â¢ R â¢ Python â¢ SAP HANA â¢ Table...</td>\n",
       "      <td>skills python sap hana tableau sap hana sql sa...</td>\n",
       "    </tr>\n",
       "    <tr>\n",
       "      <th>4</th>\n",
       "      <td>Data Science</td>\n",
       "      <td>Education Details \\r\\n MCA   YMCAUST,  Faridab...</td>\n",
       "      <td>education details mca ymcaust faridabad haryan...</td>\n",
       "    </tr>\n",
       "  </tbody>\n",
       "</table>\n",
       "</div>"
      ],
      "text/plain": [
       "       Category                                             Resume  \\\n",
       "0  Data Science  Skills * Programming Languages: Python (pandas...   \n",
       "1  Data Science  Education Details \\r\\nMay 2013 to May 2017 B.E...   \n",
       "2  Data Science  Areas of Interest Deep Learning, Control Syste...   \n",
       "3  Data Science  Skills â¢ R â¢ Python â¢ SAP HANA â¢ Table...   \n",
       "4  Data Science  Education Details \\r\\n MCA   YMCAUST,  Faridab...   \n",
       "\n",
       "                                        cleaned_text  \n",
       "0  skills programming languages python pandas num...  \n",
       "1  education details may may e uit rgpv data scie...  \n",
       "2  areas interest deep learning control system de...  \n",
       "3  skills python sap hana tableau sap hana sql sa...  \n",
       "4  education details mca ymcaust faridabad haryan...  "
      ]
     },
     "execution_count": 57,
     "metadata": {},
     "output_type": "execute_result"
    }
   ],
   "source": [
    "df.head()"
   ]
  },
  {
   "cell_type": "markdown",
   "id": "17e0dbf5",
   "metadata": {},
   "source": [
    "Now that we have cleaned the text it is ready to vectorize"
   ]
  },
  {
   "cell_type": "code",
   "execution_count": 58,
   "id": "861a645b",
   "metadata": {},
   "outputs": [],
   "source": [
    "df['vectorized_data']=df.cleaned_text.apply(lambda text: nlp(text).vector)"
   ]
  },
  {
   "cell_type": "code",
   "execution_count": 59,
   "id": "071488f0",
   "metadata": {},
   "outputs": [
    {
     "data": {
      "text/html": [
       "<div>\n",
       "<style scoped>\n",
       "    .dataframe tbody tr th:only-of-type {\n",
       "        vertical-align: middle;\n",
       "    }\n",
       "\n",
       "    .dataframe tbody tr th {\n",
       "        vertical-align: top;\n",
       "    }\n",
       "\n",
       "    .dataframe thead th {\n",
       "        text-align: right;\n",
       "    }\n",
       "</style>\n",
       "<table border=\"1\" class=\"dataframe\">\n",
       "  <thead>\n",
       "    <tr style=\"text-align: right;\">\n",
       "      <th></th>\n",
       "      <th>Category</th>\n",
       "      <th>Resume</th>\n",
       "      <th>cleaned_text</th>\n",
       "      <th>vectorized_data</th>\n",
       "    </tr>\n",
       "  </thead>\n",
       "  <tbody>\n",
       "    <tr>\n",
       "      <th>0</th>\n",
       "      <td>Data Science</td>\n",
       "      <td>Skills * Programming Languages: Python (pandas...</td>\n",
       "      <td>skills programming languages python pandas num...</td>\n",
       "      <td>[0.00019259728, -0.063411176, 0.022081006, 0.5...</td>\n",
       "    </tr>\n",
       "    <tr>\n",
       "      <th>1</th>\n",
       "      <td>Data Science</td>\n",
       "      <td>Education Details \\r\\nMay 2013 to May 2017 B.E...</td>\n",
       "      <td>education details may may e uit rgpv data scie...</td>\n",
       "      <td>[-0.38565177, 0.41584927, -0.22689901, 0.05342...</td>\n",
       "    </tr>\n",
       "    <tr>\n",
       "      <th>2</th>\n",
       "      <td>Data Science</td>\n",
       "      <td>Areas of Interest Deep Learning, Control Syste...</td>\n",
       "      <td>areas interest deep learning control system de...</td>\n",
       "      <td>[-0.34571993, 0.064293616, -0.47398934, 0.1207...</td>\n",
       "    </tr>\n",
       "    <tr>\n",
       "      <th>3</th>\n",
       "      <td>Data Science</td>\n",
       "      <td>Skills â¢ R â¢ Python â¢ SAP HANA â¢ Table...</td>\n",
       "      <td>skills python sap hana tableau sap hana sql sa...</td>\n",
       "      <td>[-0.06141665, -0.009636918, -0.60103905, 0.345...</td>\n",
       "    </tr>\n",
       "    <tr>\n",
       "      <th>4</th>\n",
       "      <td>Data Science</td>\n",
       "      <td>Education Details \\r\\n MCA   YMCAUST,  Faridab...</td>\n",
       "      <td>education details mca ymcaust faridabad haryan...</td>\n",
       "      <td>[0.102590054, -0.23031569, -0.4390396, -0.2980...</td>\n",
       "    </tr>\n",
       "  </tbody>\n",
       "</table>\n",
       "</div>"
      ],
      "text/plain": [
       "       Category                                             Resume  \\\n",
       "0  Data Science  Skills * Programming Languages: Python (pandas...   \n",
       "1  Data Science  Education Details \\r\\nMay 2013 to May 2017 B.E...   \n",
       "2  Data Science  Areas of Interest Deep Learning, Control Syste...   \n",
       "3  Data Science  Skills â¢ R â¢ Python â¢ SAP HANA â¢ Table...   \n",
       "4  Data Science  Education Details \\r\\n MCA   YMCAUST,  Faridab...   \n",
       "\n",
       "                                        cleaned_text  \\\n",
       "0  skills programming languages python pandas num...   \n",
       "1  education details may may e uit rgpv data scie...   \n",
       "2  areas interest deep learning control system de...   \n",
       "3  skills python sap hana tableau sap hana sql sa...   \n",
       "4  education details mca ymcaust faridabad haryan...   \n",
       "\n",
       "                                     vectorized_data  \n",
       "0  [0.00019259728, -0.063411176, 0.022081006, 0.5...  \n",
       "1  [-0.38565177, 0.41584927, -0.22689901, 0.05342...  \n",
       "2  [-0.34571993, 0.064293616, -0.47398934, 0.1207...  \n",
       "3  [-0.06141665, -0.009636918, -0.60103905, 0.345...  \n",
       "4  [0.102590054, -0.23031569, -0.4390396, -0.2980...  "
      ]
     },
     "execution_count": 59,
     "metadata": {},
     "output_type": "execute_result"
    }
   ],
   "source": [
    "df.head()"
   ]
  },
  {
   "cell_type": "markdown",
   "id": "d11b6c8f",
   "metadata": {},
   "source": [
    "The pre-processing and vectoriztion part is done, Now we will proceed with fitting a best model for the dataset and check if it accurately predicts the results"
   ]
  },
  {
   "cell_type": "code",
   "execution_count": 93,
   "id": "009ffd76",
   "metadata": {},
   "outputs": [],
   "source": [
    "from sklearn.model_selection import train_test_split\n",
    "from sklearn.preprocessing import MinMaxScaler\n",
    "from  sklearn.neighbors import KNeighborsClassifier\n",
    "from sklearn.metrics import classification_report"
   ]
  },
  {
   "cell_type": "code",
   "execution_count": 61,
   "id": "715eb8f1",
   "metadata": {},
   "outputs": [],
   "source": [
    "x=df['vectorized_data']\n",
    "y=df['Category']"
   ]
  },
  {
   "cell_type": "code",
   "execution_count": 65,
   "id": "3f64efda",
   "metadata": {},
   "outputs": [],
   "source": [
    "x_train, x_test, y_train, y_test = train_test_split(\n",
    "    x,\n",
    "    y,\n",
    "    test_size=0.3,\n",
    "    random_state=1049\n",
    ")"
   ]
  },
  {
   "cell_type": "code",
   "execution_count": 72,
   "id": "7b16b835",
   "metadata": {},
   "outputs": [],
   "source": [
    "knn=KNeighborsClassifier(n_neighbors = 5, metric = 'euclidean') #using 5 as K "
   ]
  },
  {
   "cell_type": "code",
   "execution_count": 73,
   "id": "73372b27",
   "metadata": {},
   "outputs": [],
   "source": [
    "#note that the vectorized array using spacy model will be an numpy array within numpy array (3D), so inorder to make it 2D numpy array which suits for analysis we need to flatten it out\n",
    "x_train=np.stack(x_train)\n",
    "x_test=np.stack(x_test)"
   ]
  },
  {
   "cell_type": "code",
   "execution_count": 74,
   "id": "48145612",
   "metadata": {},
   "outputs": [],
   "source": [
    "knn.fit(x_train,y_train)\n",
    "y_predtest=knn.predict(x_test)"
   ]
  },
  {
   "cell_type": "code",
   "execution_count": 79,
   "id": "7fba4865",
   "metadata": {},
   "outputs": [
    {
     "name": "stdout",
     "output_type": "stream",
     "text": [
      "                           precision    recall  f1-score   support\n",
      "\n",
      "                 Advocate       1.00      1.00      1.00         6\n",
      "                     Arts       0.80      1.00      0.89         8\n",
      "       Automation Testing       1.00      0.50      0.67         4\n",
      "               Blockchain       1.00      1.00      1.00        10\n",
      "         Business Analyst       0.57      0.80      0.67         5\n",
      "           Civil Engineer       1.00      0.50      0.67        10\n",
      "             Data Science       1.00      1.00      1.00        15\n",
      "                 Database       1.00      1.00      1.00         8\n",
      "          DevOps Engineer       0.77      0.91      0.83        11\n",
      "         DotNet Developer       1.00      0.82      0.90        11\n",
      "            ETL Developer       0.79      1.00      0.88        11\n",
      "   Electrical Engineering       0.75      1.00      0.86        12\n",
      "                       HR       1.00      0.47      0.64        15\n",
      "                   Hadoop       1.00      1.00      1.00        11\n",
      "       Health and fitness       1.00      0.50      0.67        14\n",
      "           Java Developer       0.91      0.72      0.81        29\n",
      "      Mechanical Engineer       1.00      1.00      1.00        13\n",
      "Network Security Engineer       1.00      0.62      0.77         8\n",
      "       Operations Manager       0.57      1.00      0.73        12\n",
      "                      PMO       1.00      1.00      1.00        12\n",
      "         Python Developer       0.60      1.00      0.75        15\n",
      "            SAP Developer       1.00      0.60      0.75         5\n",
      "                    Sales       1.00      1.00      1.00        13\n",
      "                  Testing       0.85      1.00      0.92        17\n",
      "            Web Designing       1.00      1.00      1.00        14\n",
      "\n",
      "                 accuracy                           0.87       289\n",
      "                macro avg       0.90      0.86      0.86       289\n",
      "             weighted avg       0.90      0.87      0.86       289\n",
      "\n"
     ]
    }
   ],
   "source": [
    "print(classification_report(y_test, y_predtest))"
   ]
  },
  {
   "cell_type": "markdown",
   "id": "cc4e7418",
   "metadata": {},
   "source": [
    "#Now we will check fitting the data with an ensemble classification model Gradient boosting classifier and check the accuracy and F1 score"
   ]
  },
  {
   "cell_type": "code",
   "execution_count": 85,
   "id": "84183930",
   "metadata": {},
   "outputs": [],
   "source": [
    "from sklearn.ensemble import GradientBoostingClassifier"
   ]
  },
  {
   "cell_type": "code",
   "execution_count": 86,
   "id": "e41e55af",
   "metadata": {},
   "outputs": [],
   "source": [
    "gbc=GradientBoostingClassifier(learning_rate=0.1,n_estimators=100)"
   ]
  },
  {
   "cell_type": "code",
   "execution_count": 87,
   "id": "6fcbffc5",
   "metadata": {},
   "outputs": [],
   "source": [
    "gbc.fit(x_train,y_train)\n",
    "y_predtestgbc=gbc.predict(x_test)"
   ]
  },
  {
   "cell_type": "code",
   "execution_count": 88,
   "id": "a3c7b0a2",
   "metadata": {},
   "outputs": [
    {
     "name": "stdout",
     "output_type": "stream",
     "text": [
      "                           precision    recall  f1-score   support\n",
      "\n",
      "                 Advocate       1.00      1.00      1.00         6\n",
      "                     Arts       1.00      1.00      1.00         8\n",
      "       Automation Testing       1.00      1.00      1.00         4\n",
      "               Blockchain       1.00      1.00      1.00        10\n",
      "         Business Analyst       1.00      1.00      1.00         5\n",
      "           Civil Engineer       1.00      1.00      1.00        10\n",
      "             Data Science       1.00      0.73      0.85        15\n",
      "                 Database       1.00      1.00      1.00         8\n",
      "          DevOps Engineer       1.00      0.91      0.95        11\n",
      "         DotNet Developer       1.00      1.00      1.00        11\n",
      "            ETL Developer       1.00      1.00      1.00        11\n",
      "   Electrical Engineering       1.00      1.00      1.00        12\n",
      "                       HR       1.00      1.00      1.00        15\n",
      "                   Hadoop       1.00      1.00      1.00        11\n",
      "       Health and fitness       1.00      1.00      1.00        14\n",
      "           Java Developer       0.88      1.00      0.94        29\n",
      "      Mechanical Engineer       1.00      1.00      1.00        13\n",
      "Network Security Engineer       1.00      1.00      1.00         8\n",
      "       Operations Manager       1.00      1.00      1.00        12\n",
      "                      PMO       1.00      1.00      1.00        12\n",
      "         Python Developer       1.00      1.00      1.00        15\n",
      "            SAP Developer       0.83      1.00      0.91         5\n",
      "                    Sales       1.00      1.00      1.00        13\n",
      "                  Testing       1.00      1.00      1.00        17\n",
      "            Web Designing       1.00      1.00      1.00        14\n",
      "\n",
      "                 accuracy                           0.98       289\n",
      "                macro avg       0.99      0.99      0.99       289\n",
      "             weighted avg       0.98      0.98      0.98       289\n",
      "\n"
     ]
    }
   ],
   "source": [
    "print(classification_report(y_test, y_predtestgbc))"
   ]
  },
  {
   "cell_type": "markdown",
   "id": "a4200a16",
   "metadata": {},
   "source": [
    "#wow ! the results were great when compared to KNN"
   ]
  }
 ],
 "metadata": {
  "kernelspec": {
   "display_name": "Python 3 (ipykernel)",
   "language": "python",
   "name": "python3"
  },
  "language_info": {
   "codemirror_mode": {
    "name": "ipython",
    "version": 3
   },
   "file_extension": ".py",
   "mimetype": "text/x-python",
   "name": "python",
   "nbconvert_exporter": "python",
   "pygments_lexer": "ipython3",
   "version": "3.10.5"
  }
 },
 "nbformat": 4,
 "nbformat_minor": 5
}
