{
 "cells": [
  {
   "cell_type": "code",
   "execution_count": null,
   "id": "017d78bc",
   "metadata": {},
   "outputs": [],
   "source": [
    "#for spell checker we will implement it with 2 different libraries (TextBlob and spellchecker)"
   ]
  },
  {
   "cell_type": "code",
   "execution_count": 19,
   "id": "04ef9588",
   "metadata": {},
   "outputs": [],
   "source": [
    "from textblob import TextBlob #using textblob "
   ]
  },
  {
   "cell_type": "code",
   "execution_count": 20,
   "id": "678ac43a",
   "metadata": {},
   "outputs": [],
   "source": [
    "def spellchecker(text):\n",
    "    ans=TextBlob(text)\n",
    "    return ans.correct()"
   ]
  },
  {
   "cell_type": "code",
   "execution_count": 32,
   "id": "61a796bc",
   "metadata": {},
   "outputs": [
    {
     "name": "stdout",
     "output_type": "stream",
     "text": [
      "watr satrn cmputr yas\n"
     ]
    }
   ],
   "source": [
    "sentence=input() #example checking"
   ]
  },
  {
   "cell_type": "code",
   "execution_count": 33,
   "id": "448284ed",
   "metadata": {},
   "outputs": [
    {
     "name": "stdout",
     "output_type": "stream",
     "text": [
      "war satin computer was\n"
     ]
    }
   ],
   "source": [
    "print(spellchecker(sentence))"
   ]
  },
  {
   "cell_type": "code",
   "execution_count": 1,
   "id": "ed8f417c",
   "metadata": {},
   "outputs": [],
   "source": [
    "import json #our model dataset is in json format "
   ]
  },
  {
   "cell_type": "code",
   "execution_count": 4,
   "id": "b79e9919",
   "metadata": {},
   "outputs": [],
   "source": [
    "file=open('oov_words.json') #dataset is downloaded from kaggle "
   ]
  },
  {
   "cell_type": "code",
   "execution_count": 5,
   "id": "d7265a51",
   "metadata": {},
   "outputs": [],
   "source": [
    "#now that we loaded the json file, we need to store json object as a dictionary\n",
    "data=json.load(file)"
   ]
  },
  {
   "cell_type": "code",
   "execution_count": 14,
   "id": "75c4ebba",
   "metadata": {},
   "outputs": [],
   "source": [
    "mispelled_keys=list(data.keys())"
   ]
  },
  {
   "cell_type": "code",
   "execution_count": 16,
   "id": "56023895",
   "metadata": {},
   "outputs": [
    {
     "data": {
      "text/plain": [
       "16041"
      ]
     },
     "execution_count": 16,
     "metadata": {},
     "output_type": "execute_result"
    }
   ],
   "source": [
    "len(mispelled_keys)"
   ]
  },
  {
   "cell_type": "code",
   "execution_count": 21,
   "id": "e8932e3f",
   "metadata": {},
   "outputs": [],
   "source": [
    "mispelled_words=mispelled_keys[0:100]"
   ]
  },
  {
   "cell_type": "code",
   "execution_count": 27,
   "id": "5a714a3d",
   "metadata": {},
   "outputs": [
    {
     "data": {
      "text/plain": [
       "['groundspeople',\n",
       " 'astep',\n",
       " 'kelseywoods',\n",
       " 'hoppegarten',\n",
       " 'iteca',\n",
       " 'inobtrusively']"
      ]
     },
     "execution_count": 27,
     "metadata": {},
     "output_type": "execute_result"
    }
   ],
   "source": [
    "mispelled_words[0:6]"
   ]
  },
  {
   "cell_type": "code",
   "execution_count": 23,
   "id": "365ce73b",
   "metadata": {},
   "outputs": [],
   "source": [
    "correct_words=[]\n",
    "for word in mispelled_words:\n",
    "    correct_words.append(spellchecker(word))"
   ]
  },
  {
   "cell_type": "code",
   "execution_count": 24,
   "id": "ba7b520b",
   "metadata": {},
   "outputs": [
    {
     "data": {
      "text/plain": [
       "[TextBlob(\"groundspeople\"),\n",
       " TextBlob(\"step\"),\n",
       " TextBlob(\"kelseywoods\"),\n",
       " TextBlob(\"hoppegarten\"),\n",
       " TextBlob(\"idea\"),\n",
       " TextBlob(\"unobtrusively\"),\n",
       " TextBlob(\"kaluga\"),\n",
       " TextBlob(\"stranger\"),\n",
       " TextBlob(\"pescadore\"),\n",
       " TextBlob(\"transportation\"),\n",
       " TextBlob(\"hakkechermarkt\"),\n",
       " TextBlob(\"mediterranean\"),\n",
       " TextBlob(\"pudlowski\"),\n",
       " TextBlob(\"chance\"),\n",
       " TextBlob(\"waters\"),\n",
       " TextBlob(\"rosa\"),\n",
       " TextBlob(\"layer\"),\n",
       " TextBlob(\"locationmake\"),\n",
       " TextBlob(\"understandable\"),\n",
       " TextBlob(\"hesitation\"),\n",
       " TextBlob(\"withnoisy\"),\n",
       " TextBlob(\"blandishments\"),\n",
       " TextBlob(\"pullouts\"),\n",
       " TextBlob(\"breakfastvery\"),\n",
       " TextBlob(\"doubltree\"),\n",
       " TextBlob(\"steakhousethe\"),\n",
       " TextBlob(\"refrigerator\"),\n",
       " TextBlob(\"having\"),\n",
       " TextBlob(\"unflaggingly\"),\n",
       " TextBlob(\"roomthey\"),\n",
       " TextBlob(\"construction\"),\n",
       " TextBlob(\"quinine\"),\n",
       " TextBlob(\"there\"),\n",
       " TextBlob(\"amenities\"),\n",
       " TextBlob(\"atmosphere\"),\n",
       " TextBlob(\"vaporettos\"),\n",
       " TextBlob(\"twobathroom\"),\n",
       " TextBlob(\"vassal\"),\n",
       " TextBlob(\"freshened\"),\n",
       " TextBlob(\"service\"),\n",
       " TextBlob(\"obcenely\"),\n",
       " TextBlob(\"surprisingly\"),\n",
       " TextBlob(\"tramlinks\"),\n",
       " TextBlob(\"soullessness\"),\n",
       " TextBlob(\"spectacular\"),\n",
       " TextBlob(\"familybarranquitas\"),\n",
       " TextBlob(\"behind\"),\n",
       " TextBlob(\"railwaystation\"),\n",
       " TextBlob(\"hoffstadt\"),\n",
       " TextBlob(\"secondly\"),\n",
       " TextBlob(\"officious\"),\n",
       " TextBlob(\"uncomfortable\"),\n",
       " TextBlob(\"twos\"),\n",
       " TextBlob(\"suitewhich\"),\n",
       " TextBlob(\"officially\"),\n",
       " TextBlob(\"wrecked\"),\n",
       " TextBlob(\"mixologists\"),\n",
       " TextBlob(\"itallianrest\"),\n",
       " TextBlob(\"penecilin\"),\n",
       " TextBlob(\"earlier\"),\n",
       " TextBlob(\"inconsistency\"),\n",
       " TextBlob(\"honeymoonday\"),\n",
       " TextBlob(\"diharea\"),\n",
       " TextBlob(\"nightspot\"),\n",
       " TextBlob(\"display\"),\n",
       " TextBlob(\"terrific\"),\n",
       " TextBlob(\"barecelo\"),\n",
       " TextBlob(\"primary\"),\n",
       " TextBlob(\"ignasio\"),\n",
       " TextBlob(\"werethe\"),\n",
       " TextBlob(\"madame\"),\n",
       " TextBlob(\"premises\"),\n",
       " TextBlob(\"veeeeeeeeeery\"),\n",
       " TextBlob(\"certain\"),\n",
       " TextBlob(\"intestinal\"),\n",
       " TextBlob(\"banners\"),\n",
       " TextBlob(\"floorleft\"),\n",
       " TextBlob(\"prestige\"),\n",
       " TextBlob(\"montezumas\"),\n",
       " TextBlob(\"midscale\"),\n",
       " TextBlob(\"toothpast\"),\n",
       " TextBlob(\"entertainmentshows\"),\n",
       " TextBlob(\"overbefore\"),\n",
       " TextBlob(\"thatlasted\"),\n",
       " TextBlob(\"become\"),\n",
       " TextBlob(\"selling\"),\n",
       " TextBlob(\"mostly\"),\n",
       " TextBlob(\"whereof\"),\n",
       " TextBlob(\"didbarsgreat\"),\n",
       " TextBlob(\"durst\"),\n",
       " TextBlob(\"ornately\"),\n",
       " TextBlob(\"cruise\"),\n",
       " TextBlob(\"bankers\"),\n",
       " TextBlob(\"theactivities\"),\n",
       " TextBlob(\"othellos\"),\n",
       " TextBlob(\"paint\"),\n",
       " TextBlob(\"practicalities\"),\n",
       " TextBlob(\"business\"),\n",
       " TextBlob(\"nights\"),\n",
       " TextBlob(\"utensils\")]"
      ]
     },
     "execution_count": 24,
     "metadata": {},
     "output_type": "execute_result"
    }
   ],
   "source": [
    "correct_words"
   ]
  },
  {
   "cell_type": "code",
   "execution_count": 28,
   "id": "a256df46",
   "metadata": {},
   "outputs": [],
   "source": [
    "from spellchecker import SpellChecker\n",
    "\n",
    "spell_corrector = SpellChecker()"
   ]
  },
  {
   "cell_type": "code",
   "execution_count": 29,
   "id": "62bd5646",
   "metadata": {},
   "outputs": [],
   "source": [
    "correct_words1=[]\n",
    "for word in mispelled_words:\n",
    "    correct_words1.append(spell_corrector.correction(word))"
   ]
  },
  {
   "cell_type": "code",
   "execution_count": 30,
   "id": "9a008bf6",
   "metadata": {},
   "outputs": [
    {
     "data": {
      "text/plain": [
       "[None,\n",
       " 'step',\n",
       " None,\n",
       " None,\n",
       " 'idea',\n",
       " None,\n",
       " 'allah',\n",
       " 'stranger',\n",
       " None,\n",
       " 'transportation',\n",
       " None,\n",
       " 'mediterranean',\n",
       " None,\n",
       " 'chancy',\n",
       " 'waiters',\n",
       " 'rosa',\n",
       " 'lawyer',\n",
       " None,\n",
       " 'understandable',\n",
       " 'hesitation',\n",
       " None,\n",
       " None,\n",
       " 'pullout',\n",
       " None,\n",
       " None,\n",
       " None,\n",
       " 'refrigerator',\n",
       " 'athing',\n",
       " 'unflagging',\n",
       " None,\n",
       " 'construction',\n",
       " 'quinine',\n",
       " 'there',\n",
       " 'amenities',\n",
       " 'atmosphere',\n",
       " None,\n",
       " None,\n",
       " 'vassal',\n",
       " 'freshen',\n",
       " 'service',\n",
       " 'obscenely',\n",
       " 'surprisingly',\n",
       " None,\n",
       " None,\n",
       " 'spectacular',\n",
       " None,\n",
       " 'behind',\n",
       " None,\n",
       " None,\n",
       " 'secondly',\n",
       " 'officious',\n",
       " 'uncomfortable',\n",
       " 'twos',\n",
       " None,\n",
       " 'officially',\n",
       " 'tracked',\n",
       " 'mixologist',\n",
       " None,\n",
       " 'penicillin',\n",
       " 'easier',\n",
       " 'inconsistency',\n",
       " None,\n",
       " 'dharma',\n",
       " 'nightspot',\n",
       " 'display',\n",
       " 'terrific',\n",
       " None,\n",
       " 'primary',\n",
       " None,\n",
       " 'writhe',\n",
       " 'madam',\n",
       " 'premises',\n",
       " None,\n",
       " 'ceramic',\n",
       " 'intestinal',\n",
       " 'banana',\n",
       " None,\n",
       " 'prestige',\n",
       " None,\n",
       " None,\n",
       " 'toothpaste',\n",
       " None,\n",
       " None,\n",
       " None,\n",
       " 'become',\n",
       " 'selling',\n",
       " 'mostly',\n",
       " 'whereof',\n",
       " None,\n",
       " 'duet',\n",
       " 'ornate',\n",
       " 'cruise',\n",
       " 'bankers',\n",
       " None,\n",
       " 'othello',\n",
       " 'paint',\n",
       " 'practicalities',\n",
       " 'business',\n",
       " 'nights',\n",
       " 'utensils']"
      ]
     },
     "execution_count": 30,
     "metadata": {},
     "output_type": "execute_result"
    }
   ],
   "source": [
    "correct_words1"
   ]
  }
 ],
 "metadata": {
  "kernelspec": {
   "display_name": "Python 3 (ipykernel)",
   "language": "python",
   "name": "python3"
  },
  "language_info": {
   "codemirror_mode": {
    "name": "ipython",
    "version": 3
   },
   "file_extension": ".py",
   "mimetype": "text/x-python",
   "name": "python",
   "nbconvert_exporter": "python",
   "pygments_lexer": "ipython3",
   "version": "3.10.5"
  }
 },
 "nbformat": 4,
 "nbformat_minor": 5
}
