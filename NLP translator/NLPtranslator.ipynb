{
 "cells": [
  {
   "cell_type": "markdown",
   "id": "52e31250",
   "metadata": {},
   "source": [
    "Task-1\n",
    "\tYou need to translate each word or sentence from English to Spanish, French and German \n"
   ]
  },
  {
   "cell_type": "markdown",
   "id": "e2bb6706",
   "metadata": {},
   "source": [
    "For this we are using the google translation and deep learning package deep-translator. first installing neccessary packages."
   ]
  },
  {
   "cell_type": "code",
   "execution_count": 27,
   "id": "87f95fbb",
   "metadata": {},
   "outputs": [
    {
     "name": "stdout",
     "output_type": "stream",
     "text": [
      "Requirement already satisfied: deep-translator in c:\\users\\mogit\\appdata\\local\\programs\\python\\python310\\lib\\site-packages (1.10.1)\n",
      "Requirement already satisfied: requests<3.0.0,>=2.23.0 in c:\\users\\mogit\\appdata\\local\\programs\\python\\python310\\lib\\site-packages (from deep-translator) (2.28.1)\n",
      "Requirement already satisfied: beautifulsoup4<5.0.0,>=4.9.1 in c:\\users\\mogit\\appdata\\local\\programs\\python\\python310\\lib\\site-packages (from deep-translator) (4.11.1)\n",
      "Requirement already satisfied: soupsieve>1.2 in c:\\users\\mogit\\appdata\\local\\programs\\python\\python310\\lib\\site-packages (from beautifulsoup4<5.0.0,>=4.9.1->deep-translator) (2.3.2.post1)\n",
      "Requirement already satisfied: certifi>=2017.4.17 in c:\\users\\mogit\\appdata\\local\\programs\\python\\python310\\lib\\site-packages (from requests<3.0.0,>=2.23.0->deep-translator) (2022.6.15)\n",
      "Requirement already satisfied: urllib3<1.27,>=1.21.1 in c:\\users\\mogit\\appdata\\local\\programs\\python\\python310\\lib\\site-packages (from requests<3.0.0,>=2.23.0->deep-translator) (1.26.10)\n",
      "Requirement already satisfied: charset-normalizer<3,>=2 in c:\\users\\mogit\\appdata\\local\\programs\\python\\python310\\lib\\site-packages (from requests<3.0.0,>=2.23.0->deep-translator) (2.1.0)\n",
      "Requirement already satisfied: idna<4,>=2.5 in c:\\users\\mogit\\appdata\\local\\programs\\python\\python310\\lib\\site-packages (from requests<3.0.0,>=2.23.0->deep-translator) (2.10)\n"
     ]
    },
    {
     "name": "stderr",
     "output_type": "stream",
     "text": [
      "WARNING: Ignoring invalid distribution -ymongo (c:\\users\\mogit\\appdata\\local\\programs\\python\\python310\\lib\\site-packages)\n",
      "WARNING: Ignoring invalid distribution -ymongo (c:\\users\\mogit\\appdata\\local\\programs\\python\\python310\\lib\\site-packages)\n",
      "WARNING: Ignoring invalid distribution -ymongo (c:\\users\\mogit\\appdata\\local\\programs\\python\\python310\\lib\\site-packages)\n",
      "WARNING: Ignoring invalid distribution -ymongo (c:\\users\\mogit\\appdata\\local\\programs\\python\\python310\\lib\\site-packages)\n",
      "WARNING: Ignoring invalid distribution -ymongo (c:\\users\\mogit\\appdata\\local\\programs\\python\\python310\\lib\\site-packages)\n",
      "WARNING: Ignoring invalid distribution -ymongo (c:\\users\\mogit\\appdata\\local\\programs\\python\\python310\\lib\\site-packages)\n"
     ]
    }
   ],
   "source": [
    "!pip install deep-translator"
   ]
  },
  {
   "cell_type": "code",
   "execution_count": 29,
   "id": "213633eb",
   "metadata": {},
   "outputs": [],
   "source": [
    "from deep_translator import GoogleTranslator\n",
    "import pandas as pd\n",
    "import string"
   ]
  },
  {
   "cell_type": "markdown",
   "id": "f8d24d50",
   "metadata": {},
   "source": [
    "The dataset for this task can be found here... https://drive.google.com/file/d/1YMHJjblc8dDzUN1ry8BOCnAR4_TyKmXM/view?usp=sharing"
   ]
  },
  {
   "cell_type": "code",
   "execution_count": 30,
   "id": "f51a551b",
   "metadata": {},
   "outputs": [],
   "source": [
    "df=pd.read_csv('English.csv')"
   ]
  },
  {
   "cell_type": "code",
   "execution_count": 31,
   "id": "5dcbe51d",
   "metadata": {},
   "outputs": [
    {
     "data": {
      "text/plain": [
       "Index(['English words/sentences'], dtype='object')"
      ]
     },
     "execution_count": 31,
     "metadata": {},
     "output_type": "execute_result"
    }
   ],
   "source": [
    "df.columns"
   ]
  },
  {
   "cell_type": "code",
   "execution_count": 32,
   "id": "0c5214d3",
   "metadata": {},
   "outputs": [
    {
     "data": {
      "text/plain": [
       "(175621, 1)"
      ]
     },
     "execution_count": 32,
     "metadata": {},
     "output_type": "execute_result"
    }
   ],
   "source": [
    "df.shape # we can see that the dataset contains nearly 1.75lakhs of row entries."
   ]
  },
  {
   "cell_type": "code",
   "execution_count": 36,
   "id": "1595e1db",
   "metadata": {},
   "outputs": [],
   "source": [
    "df=df.drop_duplicates() #we observed that our data has some multiple same entries, so to clean it we are removing duplicates."
   ]
  },
  {
   "cell_type": "code",
   "execution_count": 37,
   "id": "855787ab",
   "metadata": {},
   "outputs": [
    {
     "data": {
      "text/html": [
       "<div>\n",
       "<style scoped>\n",
       "    .dataframe tbody tr th:only-of-type {\n",
       "        vertical-align: middle;\n",
       "    }\n",
       "\n",
       "    .dataframe tbody tr th {\n",
       "        vertical-align: top;\n",
       "    }\n",
       "\n",
       "    .dataframe thead th {\n",
       "        text-align: right;\n",
       "    }\n",
       "</style>\n",
       "<table border=\"1\" class=\"dataframe\">\n",
       "  <thead>\n",
       "    <tr style=\"text-align: right;\">\n",
       "      <th></th>\n",
       "      <th>English words/sentences</th>\n",
       "    </tr>\n",
       "  </thead>\n",
       "  <tbody>\n",
       "    <tr>\n",
       "      <th>0</th>\n",
       "      <td>Hi.</td>\n",
       "    </tr>\n",
       "    <tr>\n",
       "      <th>1</th>\n",
       "      <td>Run!</td>\n",
       "    </tr>\n",
       "    <tr>\n",
       "      <th>3</th>\n",
       "      <td>Who?</td>\n",
       "    </tr>\n",
       "    <tr>\n",
       "      <th>4</th>\n",
       "      <td>Wow!</td>\n",
       "    </tr>\n",
       "    <tr>\n",
       "      <th>5</th>\n",
       "      <td>Fire!</td>\n",
       "    </tr>\n",
       "    <tr>\n",
       "      <th>...</th>\n",
       "      <td>...</td>\n",
       "    </tr>\n",
       "    <tr>\n",
       "      <th>175616</th>\n",
       "      <td>Top-down economics never works, said Obama. \"T...</td>\n",
       "    </tr>\n",
       "    <tr>\n",
       "      <th>175617</th>\n",
       "      <td>A carbon footprint is the amount of carbon dio...</td>\n",
       "    </tr>\n",
       "    <tr>\n",
       "      <th>175618</th>\n",
       "      <td>Death is something that we're often discourage...</td>\n",
       "    </tr>\n",
       "    <tr>\n",
       "      <th>175619</th>\n",
       "      <td>Since there are usually multiple websites on a...</td>\n",
       "    </tr>\n",
       "    <tr>\n",
       "      <th>175620</th>\n",
       "      <td>If someone who doesn't know your background sa...</td>\n",
       "    </tr>\n",
       "  </tbody>\n",
       "</table>\n",
       "<p>123100 rows × 1 columns</p>\n",
       "</div>"
      ],
      "text/plain": [
       "                                  English words/sentences\n",
       "0                                                     Hi.\n",
       "1                                                    Run!\n",
       "3                                                    Who?\n",
       "4                                                    Wow!\n",
       "5                                                   Fire!\n",
       "...                                                   ...\n",
       "175616  Top-down economics never works, said Obama. \"T...\n",
       "175617  A carbon footprint is the amount of carbon dio...\n",
       "175618  Death is something that we're often discourage...\n",
       "175619  Since there are usually multiple websites on a...\n",
       "175620  If someone who doesn't know your background sa...\n",
       "\n",
       "[123100 rows x 1 columns]"
      ]
     },
     "execution_count": 37,
     "metadata": {},
     "output_type": "execute_result"
    }
   ],
   "source": [
    "df"
   ]
  },
  {
   "cell_type": "markdown",
   "id": "0d6b6582",
   "metadata": {},
   "source": [
    "The dataset contains punctuations at the end of the words. So we need to create a function to remove punctuation from end.\n",
    "using string.punctuation"
   ]
  },
  {
   "cell_type": "code",
   "execution_count": 33,
   "id": "a8563f84",
   "metadata": {},
   "outputs": [
    {
     "data": {
      "text/plain": [
       "'!\"#$%&\\'()*+,-./:;<=>?@[\\\\]^_`{|}~'"
      ]
     },
     "execution_count": 33,
     "metadata": {},
     "output_type": "execute_result"
    }
   ],
   "source": [
    "string.punctuation"
   ]
  },
  {
   "cell_type": "markdown",
   "id": "a722c8d5",
   "metadata": {},
   "source": [
    "Function to remove punctuation in our row entries. "
   ]
  },
  {
   "cell_type": "code",
   "execution_count": 34,
   "id": "e21496b9",
   "metadata": {},
   "outputs": [],
   "source": [
    "def remove_punct(txt):\n",
    "    txt_nonpunct= ''.join([i for i in txt if i not in string.punctuation])\n",
    "    return txt_nonpunct"
   ]
  },
  {
   "cell_type": "code",
   "execution_count": 38,
   "id": "c74fb898",
   "metadata": {},
   "outputs": [],
   "source": [
    "df['english no_punct']=df['English words/sentences'].apply(lambda x : remove_punct(x))"
   ]
  },
  {
   "cell_type": "code",
   "execution_count": 53,
   "id": "f3e7d3f0",
   "metadata": {},
   "outputs": [],
   "source": [
    "translator= GoogleTranslator(source='english', target='es') #instance of translator from eng --> spanish\n",
    "spanish_word=[translator.translate(i) for i in df['english no_punct'][0:100]] #first 100 words from the dataframe"
   ]
  },
  {
   "cell_type": "code",
   "execution_count": 52,
   "id": "da00de2f",
   "metadata": {},
   "outputs": [
    {
     "name": "stdout",
     "output_type": "stream",
     "text": [
      "['Hola', 'Correr', 'OMS', 'Guau', 'Fuego', 'Ayuda', 'Saltar', 'Detener', 'Esperar', 'Seguir']\n"
     ]
    }
   ],
   "source": [
    "print(spanish_word[0:10])"
   ]
  },
  {
   "cell_type": "markdown",
   "id": "7ddade72",
   "metadata": {},
   "source": [
    "To translate into spanish sentences"
   ]
  },
  {
   "cell_type": "code",
   "execution_count": 58,
   "id": "4ce1c869",
   "metadata": {},
   "outputs": [],
   "source": [
    "spanish_sentence=[translator.translate(i) for i in df['english no_punct'][-100:-1]] #first 100 sentences from df"
   ]
  },
  {
   "cell_type": "code",
   "execution_count": 59,
   "id": "73be11b4",
   "metadata": {},
   "outputs": [
    {
     "name": "stdout",
     "output_type": "stream",
     "text": [
      "['Las preguntas surgieron rápidas y furiosas de la gran cantidad de reporteros que se habían reunido fuera del juzgado.', 'Algunas personas mencionaron que les gustaría asistir a algunas sesiones más tarde en el día sobre la agenda de la sesión técnica.', 'Considere los éxitos que han logrado las personas cansadas y desanimadas que decidieron intentarlo una vez más.', 'Sé que es muy poco probable que alguna vez quieras salir conmigo, pero aún así necesito preguntártelo al menos una vez.', 'El hombre que comete solo un error al año porque toma solo dos decisiones se equivoca el cincuenta por ciento del tiempo', 'Sé que estás molesto porque tu auto fue destrozado, pero no resultaste herido y deberías estar agradecido de estar vivo.', 'A veces desearía poder vivir una vida tranquila y retirada, pero dudo que pueda soportarlo por más de unos pocos días.', 'Si decide responder preguntas ahora sin la presencia de un abogado, tiene derecho a dejar de responder en cualquier momento.', '¿Sabías que en Japón si tienes un tatuaje no te permitirán bañarte en muchos de los balnearios de aguas termales?']\n"
     ]
    }
   ],
   "source": [
    "print(spanish_sentence[1:10])"
   ]
  },
  {
   "cell_type": "markdown",
   "id": "ace667a9",
   "metadata": {},
   "source": [
    "Now English --> French "
   ]
  },
  {
   "cell_type": "code",
   "execution_count": 60,
   "id": "4bd8be6b",
   "metadata": {},
   "outputs": [],
   "source": [
    "translator= GoogleTranslator(source='english', target='french')\n",
    "french_word=[translator.translate(i) for i in df['english no_punct'][0:100]] #first 100 words in dataframe"
   ]
  },
  {
   "cell_type": "code",
   "execution_count": 61,
   "id": "f8ee7dde",
   "metadata": {},
   "outputs": [
    {
     "name": "stdout",
     "output_type": "stream",
     "text": [
      "['Salut', 'Courir', 'OMS', 'Ouah', 'Feu', 'Aider', 'Saut', 'Arrêt', 'Attendez', 'Continue']\n"
     ]
    }
   ],
   "source": [
    "print(french_word[0:10])"
   ]
  },
  {
   "cell_type": "code",
   "execution_count": 62,
   "id": "503c441d",
   "metadata": {},
   "outputs": [],
   "source": [
    "french_sentence=[translator.translate(i) for i in df['english no_punct'][-100:-1]]"
   ]
  },
  {
   "cell_type": "code",
   "execution_count": 63,
   "id": "45c2a45a",
   "metadata": {},
   "outputs": [
    {
     "name": "stdout",
     "output_type": "stream",
     "text": [
      "[\"La police soupçonnait qu'il y avait un lien entre la voiture abandonnée et le cadavre retrouvé à trois miles de là\", \"Les questions sont venues rapidement et furieusement du grand nombre de journalistes qui s'étaient rassemblés devant le palais de justice\", \"Quelques personnes ont mentionné qu'elles aimeraient assister à certaines sessions plus tard dans la journée sur l'ordre du jour de la session technique\", 'Considérez les succès remportés par des personnes fatiguées et découragées qui ont décidé de réessayer', \"Je sais qu'il est très peu probable que tu veuilles sortir avec moi, mais je dois quand même demander au moins une fois\", \"L'homme qui ne fait qu'une seule erreur par an parce qu'il ne prend que deux décisions se trompe cinquante pour cent du temps\", \"Je sais que tu es contrarié que ta voiture ait été détruite, mais tu n'as pas été blessé et tu devrais être reconnaissant d'être en vie\", \"J'aimerais parfois pouvoir vivre une vie tranquille à la retraite, mais je doute que je puisse le supporter plus de quelques jours\", \"Si vous décidez de répondre aux questions maintenant sans la présence d'un avocat, vous avez le droit d'arrêter de répondre à tout moment\", \"Saviez-vous qu'au Japon, si vous avez un tatouage, vous ne serez pas autorisé à vous baigner dans de nombreuses stations thermales\"]\n"
     ]
    }
   ],
   "source": [
    "print(french_sentence[0:10])"
   ]
  },
  {
   "cell_type": "markdown",
   "id": "7b44992a",
   "metadata": {},
   "source": [
    "Now english to German "
   ]
  },
  {
   "cell_type": "code",
   "execution_count": 64,
   "id": "ab091105",
   "metadata": {},
   "outputs": [],
   "source": [
    "translator= GoogleTranslator(source='english', target='german')\n",
    "german_word=[translator.translate(i) for i in df['english no_punct'][0:100]]"
   ]
  },
  {
   "cell_type": "code",
   "execution_count": 65,
   "id": "74ff9b72",
   "metadata": {},
   "outputs": [
    {
     "name": "stdout",
     "output_type": "stream",
     "text": [
      "['Hallo', 'Laufen', 'WHO', 'Wow', 'Feuer', 'Hilfe', 'Springen', 'Stoppen', 'Warten', 'Mach weiter']\n"
     ]
    }
   ],
   "source": [
    "print(german_word[0:10])"
   ]
  },
  {
   "cell_type": "code",
   "execution_count": 66,
   "id": "d8889598",
   "metadata": {},
   "outputs": [],
   "source": [
    "german_sentence=[translator.translate(i) for i in df['english no_punct'][-100:-1]]"
   ]
  },
  {
   "cell_type": "code",
   "execution_count": 67,
   "id": "9e008494",
   "metadata": {},
   "outputs": [
    {
     "name": "stdout",
     "output_type": "stream",
     "text": [
      "['Die Polizei vermutete einen Zusammenhang zwischen dem verlassenen Auto und der drei Meilen entfernt gefundenen Leiche', 'Die Fragen kamen schnell und wütend von der großen Zahl von Reportern, die sich vor dem Gerichtsgebäude versammelt hatten', 'Einige Leute erwähnten, dass sie später am Tag an einigen Sitzungen auf der Agenda der technischen Sitzung teilnehmen möchten', 'Betrachten Sie die Erfolge, die von müden, entmutigten Menschen erzielt wurden, die beschlossen, es noch einmal zu versuchen', 'Ich weiß, dass es sehr unwahrscheinlich ist, dass du jemals mit mir ausgehen willst, aber ich muss trotzdem mindestens einmal fragen', 'Der Mann, der nur einen Fehler im Jahr macht, weil er nur zwei Entscheidungen trifft, liegt in fünfzig Prozent der Fälle falsch', 'Ich weiß, dass Sie sich darüber aufregen, dass Ihr Auto einen Totalschaden erlitten hat, aber Sie wurden nicht verletzt und Sie sollten dankbar sein, am Leben zu sein', 'Manchmal wünsche ich mir, ich könnte ein ruhiges, zurückgezogenes Leben führen, aber ich bezweifle, dass ich es länger als ein paar Tage aushalten könnte', 'Wenn Sie sich entscheiden, Fragen jetzt ohne Anwesenheit eines Anwalts zu beantworten, haben Sie das Recht, die Beantwortung jederzeit einzustellen', 'Wussten Sie, dass Sie in Japan, wenn Sie ein Tattoo haben, in vielen Thermalquellen nicht baden dürfen?']\n"
     ]
    }
   ],
   "source": [
    "print(german_sentence[0:10])"
   ]
  }
 ],
 "metadata": {
  "kernelspec": {
   "display_name": "Python 3 (ipykernel)",
   "language": "python",
   "name": "python3"
  },
  "language_info": {
   "codemirror_mode": {
    "name": "ipython",
    "version": 3
   },
   "file_extension": ".py",
   "mimetype": "text/x-python",
   "name": "python",
   "nbconvert_exporter": "python",
   "pygments_lexer": "ipython3",
   "version": "3.10.5"
  }
 },
 "nbformat": 4,
 "nbformat_minor": 5
}
