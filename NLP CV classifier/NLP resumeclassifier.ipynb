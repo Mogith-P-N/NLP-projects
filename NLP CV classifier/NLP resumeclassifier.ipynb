{
 "cells": [
  {
   "cell_type": "raw",
   "id": "1093e923",
   "metadata": {},
   "source": [
    "# Create an application that should be used by the HR Team to filter the resume based on the Skills.\n",
    "\n",
    "\n",
    "For this, We are going to use a dataset from kaggle clean and pre-process it to fit a suitable classification model to assist the HR team to filter resume based on the job-role. "
   ]
  },
  {
   "cell_type": "code",
   "execution_count": 8,
   "id": "dc704a71",
   "metadata": {},
   "outputs": [],
   "source": [
    "import spacy #using spacy module for vectorization\n",
    "nlp= spacy.load('en_core_web_lg') #en_core_web_lg is the pre-trained model by spacy\n",
    "#referred from \"https://spacy.io/usage/spacy-101/\""
   ]
  },
  {
   "cell_type": "code",
   "execution_count": 9,
   "id": "b01dfcd4",
   "metadata": {},
   "outputs": [],
   "source": [
    "import pandas as pd\n",
    "import numpy as np\n",
    "import re\n",
    "import string\n",
    "import unidecode"
   ]
  },
  {
   "cell_type": "code",
   "execution_count": 10,
   "id": "d41aa853",
   "metadata": {},
   "outputs": [
    {
     "name": "stderr",
     "output_type": "stream",
     "text": [
      "[nltk_data] Downloading package stopwords to\n",
      "[nltk_data]     C:\\Users\\mogit\\AppData\\Roaming\\nltk_data...\n",
      "[nltk_data]   Package stopwords is already up-to-date!\n"
     ]
    },
    {
     "data": {
      "text/plain": [
       "True"
      ]
     },
     "execution_count": 10,
     "metadata": {},
     "output_type": "execute_result"
    }
   ],
   "source": [
    "import nltk\n",
    "from nltk.corpus import stopwords\n",
    "nltk.download('stopwords')"
   ]
  },
  {
   "cell_type": "code",
   "execution_count": 11,
   "id": "d86bfdd2",
   "metadata": {},
   "outputs": [],
   "source": [
    "df=pd.read_csv(\"UpdatedResumeDataSet.csv\") #dataset downloaded from the kaggle \"https://www.kaggle.com/datasets/jillanisofttech/updated-resume-dataset\""
   ]
  },
  {
   "cell_type": "code",
   "execution_count": 13,
   "id": "dd5c4b67",
   "metadata": {},
   "outputs": [
    {
     "data": {
      "text/plain": [
       "(962, 2)"
      ]
     },
     "execution_count": 13,
     "metadata": {},
     "output_type": "execute_result"
    }
   ],
   "source": [
    "df.shape"
   ]
  },
  {
   "cell_type": "code",
   "execution_count": 14,
   "id": "f88ecf09",
   "metadata": {},
   "outputs": [
    {
     "data": {
      "text/html": [
       "<div>\n",
       "<style scoped>\n",
       "    .dataframe tbody tr th:only-of-type {\n",
       "        vertical-align: middle;\n",
       "    }\n",
       "\n",
       "    .dataframe tbody tr th {\n",
       "        vertical-align: top;\n",
       "    }\n",
       "\n",
       "    .dataframe thead th {\n",
       "        text-align: right;\n",
       "    }\n",
       "</style>\n",
       "<table border=\"1\" class=\"dataframe\">\n",
       "  <thead>\n",
       "    <tr style=\"text-align: right;\">\n",
       "      <th></th>\n",
       "      <th>Category</th>\n",
       "      <th>Resume</th>\n",
       "    </tr>\n",
       "  </thead>\n",
       "  <tbody>\n",
       "    <tr>\n",
       "      <th>0</th>\n",
       "      <td>Data Science</td>\n",
       "      <td>Skills * Programming Languages: Python (pandas...</td>\n",
       "    </tr>\n",
       "    <tr>\n",
       "      <th>1</th>\n",
       "      <td>Data Science</td>\n",
       "      <td>Education Details \\r\\nMay 2013 to May 2017 B.E...</td>\n",
       "    </tr>\n",
       "    <tr>\n",
       "      <th>2</th>\n",
       "      <td>Data Science</td>\n",
       "      <td>Areas of Interest Deep Learning, Control Syste...</td>\n",
       "    </tr>\n",
       "    <tr>\n",
       "      <th>3</th>\n",
       "      <td>Data Science</td>\n",
       "      <td>Skills â¢ R â¢ Python â¢ SAP HANA â¢ Table...</td>\n",
       "    </tr>\n",
       "    <tr>\n",
       "      <th>4</th>\n",
       "      <td>Data Science</td>\n",
       "      <td>Education Details \\r\\n MCA   YMCAUST,  Faridab...</td>\n",
       "    </tr>\n",
       "  </tbody>\n",
       "</table>\n",
       "</div>"
      ],
      "text/plain": [
       "       Category                                             Resume\n",
       "0  Data Science  Skills * Programming Languages: Python (pandas...\n",
       "1  Data Science  Education Details \\r\\nMay 2013 to May 2017 B.E...\n",
       "2  Data Science  Areas of Interest Deep Learning, Control Syste...\n",
       "3  Data Science  Skills â¢ R â¢ Python â¢ SAP HANA â¢ Table...\n",
       "4  Data Science  Education Details \\r\\n MCA   YMCAUST,  Faridab..."
      ]
     },
     "execution_count": 14,
     "metadata": {},
     "output_type": "execute_result"
    }
   ],
   "source": [
    "df.head()\n"
   ]
  },
  {
   "cell_type": "code",
   "execution_count": 15,
   "id": "b785635e",
   "metadata": {},
   "outputs": [
    {
     "data": {
      "text/plain": [
       "Java Developer               84\n",
       "Testing                      70\n",
       "DevOps Engineer              55\n",
       "Python Developer             48\n",
       "Web Designing                45\n",
       "HR                           44\n",
       "Hadoop                       42\n",
       "Blockchain                   40\n",
       "ETL Developer                40\n",
       "Operations Manager           40\n",
       "Data Science                 40\n",
       "Sales                        40\n",
       "Mechanical Engineer          40\n",
       "Arts                         36\n",
       "Database                     33\n",
       "Electrical Engineering       30\n",
       "Health and fitness           30\n",
       "PMO                          30\n",
       "Business Analyst             28\n",
       "DotNet Developer             28\n",
       "Automation Testing           26\n",
       "Network Security Engineer    25\n",
       "SAP Developer                24\n",
       "Civil Engineer               24\n",
       "Advocate                     20\n",
       "Name: Category, dtype: int64"
      ]
     },
     "execution_count": 15,
     "metadata": {},
     "output_type": "execute_result"
    }
   ],
   "source": [
    "df.Category.value_counts()"
   ]
  },
  {
   "cell_type": "code",
   "execution_count": 12,
   "id": "ed14220b",
   "metadata": {},
   "outputs": [],
   "source": [
    "#we need to pre-process and clean the data\n",
    "def clean_words(text):\n",
    "    \"\"\"Basic cleaning of texts\"\"\"\n",
    "    \n",
    "    # remove html\n",
    "    text=re.sub(\"(<.*?>)\",\"\",text)\n",
    "    \n",
    "    #remove non-ascii and digits\n",
    "    text=re.sub(\"(\\\\W|\\\\d)\",\" \",text)\n",
    "    \n",
    "    #remove whitespace\n",
    "    text=text.strip()\n",
    "    \n",
    "    #removing single charcters pattern\n",
    "    text=re.sub(pattern='\\s+[a-zA-Z]\\s+' ,repl=\" \", string=text)\n",
    "    \n",
    "    #remove accented characters\n",
    "    text=unidecode.unidecode(text) #we have accented characters like a^ etc, so to remove that we are performing \n",
    "    \n",
    "    #to make words into lowercase\n",
    "    text=text.lower()\n",
    "    \n",
    "    #removing stop words from the paragraph\n",
    "    words = [word for word in text.split() if word.lower() not in stopwords.words('english')]\n",
    "    text = \" \".join(words)\n",
    "    \n",
    "    #here we are avoiding tokenization since the spacy's model takes string or doc as input not list of words\n",
    "    # also we are not performing stemming and lemmatization since it will change the context of skills and other words in resume text\n",
    "    \n",
    "    \n",
    "    return text"
   ]
  },
  {
   "cell_type": "code",
   "execution_count": 16,
   "id": "b3c2a447",
   "metadata": {},
   "outputs": [],
   "source": [
    "df['cleaned_text']=df.Resume.map(lambda x: clean_words(x))"
   ]
  },
  {
   "cell_type": "code",
   "execution_count": 17,
   "id": "bde824f1",
   "metadata": {},
   "outputs": [
    {
     "data": {
      "text/html": [
       "<div>\n",
       "<style scoped>\n",
       "    .dataframe tbody tr th:only-of-type {\n",
       "        vertical-align: middle;\n",
       "    }\n",
       "\n",
       "    .dataframe tbody tr th {\n",
       "        vertical-align: top;\n",
       "    }\n",
       "\n",
       "    .dataframe thead th {\n",
       "        text-align: right;\n",
       "    }\n",
       "</style>\n",
       "<table border=\"1\" class=\"dataframe\">\n",
       "  <thead>\n",
       "    <tr style=\"text-align: right;\">\n",
       "      <th></th>\n",
       "      <th>Category</th>\n",
       "      <th>Resume</th>\n",
       "      <th>cleaned_text</th>\n",
       "    </tr>\n",
       "  </thead>\n",
       "  <tbody>\n",
       "    <tr>\n",
       "      <th>0</th>\n",
       "      <td>Data Science</td>\n",
       "      <td>Skills * Programming Languages: Python (pandas...</td>\n",
       "      <td>skills programming languages python pandas num...</td>\n",
       "    </tr>\n",
       "    <tr>\n",
       "      <th>1</th>\n",
       "      <td>Data Science</td>\n",
       "      <td>Education Details \\r\\nMay 2013 to May 2017 B.E...</td>\n",
       "      <td>education details may may e uit rgpv data scie...</td>\n",
       "    </tr>\n",
       "    <tr>\n",
       "      <th>2</th>\n",
       "      <td>Data Science</td>\n",
       "      <td>Areas of Interest Deep Learning, Control Syste...</td>\n",
       "      <td>areas interest deep learning control system de...</td>\n",
       "    </tr>\n",
       "    <tr>\n",
       "      <th>3</th>\n",
       "      <td>Data Science</td>\n",
       "      <td>Skills â¢ R â¢ Python â¢ SAP HANA â¢ Table...</td>\n",
       "      <td>skills python sap hana tableau sap hana sql sa...</td>\n",
       "    </tr>\n",
       "    <tr>\n",
       "      <th>4</th>\n",
       "      <td>Data Science</td>\n",
       "      <td>Education Details \\r\\n MCA   YMCAUST,  Faridab...</td>\n",
       "      <td>education details mca ymcaust faridabad haryan...</td>\n",
       "    </tr>\n",
       "  </tbody>\n",
       "</table>\n",
       "</div>"
      ],
      "text/plain": [
       "       Category                                             Resume  \\\n",
       "0  Data Science  Skills * Programming Languages: Python (pandas...   \n",
       "1  Data Science  Education Details \\r\\nMay 2013 to May 2017 B.E...   \n",
       "2  Data Science  Areas of Interest Deep Learning, Control Syste...   \n",
       "3  Data Science  Skills â¢ R â¢ Python â¢ SAP HANA â¢ Table...   \n",
       "4  Data Science  Education Details \\r\\n MCA   YMCAUST,  Faridab...   \n",
       "\n",
       "                                        cleaned_text  \n",
       "0  skills programming languages python pandas num...  \n",
       "1  education details may may e uit rgpv data scie...  \n",
       "2  areas interest deep learning control system de...  \n",
       "3  skills python sap hana tableau sap hana sql sa...  \n",
       "4  education details mca ymcaust faridabad haryan...  "
      ]
     },
     "execution_count": 17,
     "metadata": {},
     "output_type": "execute_result"
    }
   ],
   "source": [
    "df.head()"
   ]
  },
  {
   "cell_type": "markdown",
   "id": "17e0dbf5",
   "metadata": {},
   "source": [
    "Now that we have cleaned the text it is ready to vectorize"
   ]
  },
  {
   "cell_type": "code",
   "execution_count": 18,
   "id": "861a645b",
   "metadata": {},
   "outputs": [],
   "source": [
    "df['vectorized_data']=df.cleaned_text.apply(lambda text: nlp(text).vector)"
   ]
  },
  {
   "cell_type": "code",
   "execution_count": 19,
   "id": "071488f0",
   "metadata": {},
   "outputs": [
    {
     "data": {
      "text/html": [
       "<div>\n",
       "<style scoped>\n",
       "    .dataframe tbody tr th:only-of-type {\n",
       "        vertical-align: middle;\n",
       "    }\n",
       "\n",
       "    .dataframe tbody tr th {\n",
       "        vertical-align: top;\n",
       "    }\n",
       "\n",
       "    .dataframe thead th {\n",
       "        text-align: right;\n",
       "    }\n",
       "</style>\n",
       "<table border=\"1\" class=\"dataframe\">\n",
       "  <thead>\n",
       "    <tr style=\"text-align: right;\">\n",
       "      <th></th>\n",
       "      <th>Category</th>\n",
       "      <th>Resume</th>\n",
       "      <th>cleaned_text</th>\n",
       "      <th>vectorized_data</th>\n",
       "    </tr>\n",
       "  </thead>\n",
       "  <tbody>\n",
       "    <tr>\n",
       "      <th>0</th>\n",
       "      <td>Data Science</td>\n",
       "      <td>Skills * Programming Languages: Python (pandas...</td>\n",
       "      <td>skills programming languages python pandas num...</td>\n",
       "      <td>[0.00019259728, -0.063411176, 0.022081006, 0.5...</td>\n",
       "    </tr>\n",
       "    <tr>\n",
       "      <th>1</th>\n",
       "      <td>Data Science</td>\n",
       "      <td>Education Details \\r\\nMay 2013 to May 2017 B.E...</td>\n",
       "      <td>education details may may e uit rgpv data scie...</td>\n",
       "      <td>[-0.38565177, 0.41584927, -0.22689901, 0.05342...</td>\n",
       "    </tr>\n",
       "    <tr>\n",
       "      <th>2</th>\n",
       "      <td>Data Science</td>\n",
       "      <td>Areas of Interest Deep Learning, Control Syste...</td>\n",
       "      <td>areas interest deep learning control system de...</td>\n",
       "      <td>[-0.34571993, 0.064293616, -0.47398934, 0.1207...</td>\n",
       "    </tr>\n",
       "    <tr>\n",
       "      <th>3</th>\n",
       "      <td>Data Science</td>\n",
       "      <td>Skills â¢ R â¢ Python â¢ SAP HANA â¢ Table...</td>\n",
       "      <td>skills python sap hana tableau sap hana sql sa...</td>\n",
       "      <td>[-0.06141665, -0.009636918, -0.60103905, 0.345...</td>\n",
       "    </tr>\n",
       "    <tr>\n",
       "      <th>4</th>\n",
       "      <td>Data Science</td>\n",
       "      <td>Education Details \\r\\n MCA   YMCAUST,  Faridab...</td>\n",
       "      <td>education details mca ymcaust faridabad haryan...</td>\n",
       "      <td>[0.102590054, -0.23031569, -0.4390396, -0.2980...</td>\n",
       "    </tr>\n",
       "  </tbody>\n",
       "</table>\n",
       "</div>"
      ],
      "text/plain": [
       "       Category                                             Resume  \\\n",
       "0  Data Science  Skills * Programming Languages: Python (pandas...   \n",
       "1  Data Science  Education Details \\r\\nMay 2013 to May 2017 B.E...   \n",
       "2  Data Science  Areas of Interest Deep Learning, Control Syste...   \n",
       "3  Data Science  Skills â¢ R â¢ Python â¢ SAP HANA â¢ Table...   \n",
       "4  Data Science  Education Details \\r\\n MCA   YMCAUST,  Faridab...   \n",
       "\n",
       "                                        cleaned_text  \\\n",
       "0  skills programming languages python pandas num...   \n",
       "1  education details may may e uit rgpv data scie...   \n",
       "2  areas interest deep learning control system de...   \n",
       "3  skills python sap hana tableau sap hana sql sa...   \n",
       "4  education details mca ymcaust faridabad haryan...   \n",
       "\n",
       "                                     vectorized_data  \n",
       "0  [0.00019259728, -0.063411176, 0.022081006, 0.5...  \n",
       "1  [-0.38565177, 0.41584927, -0.22689901, 0.05342...  \n",
       "2  [-0.34571993, 0.064293616, -0.47398934, 0.1207...  \n",
       "3  [-0.06141665, -0.009636918, -0.60103905, 0.345...  \n",
       "4  [0.102590054, -0.23031569, -0.4390396, -0.2980...  "
      ]
     },
     "execution_count": 19,
     "metadata": {},
     "output_type": "execute_result"
    }
   ],
   "source": [
    "df.head()"
   ]
  },
  {
   "cell_type": "markdown",
   "id": "d11b6c8f",
   "metadata": {},
   "source": [
    "The pre-processing and vectoriztion part is done, Now we will proceed with fitting a best model for the dataset and check if it accurately predicts the results"
   ]
  },
  {
   "cell_type": "code",
   "execution_count": 20,
   "id": "009ffd76",
   "metadata": {},
   "outputs": [],
   "source": [
    "from sklearn.model_selection import train_test_split\n",
    "from sklearn.preprocessing import MinMaxScaler\n",
    "from  sklearn.neighbors import KNeighborsClassifier\n",
    "from sklearn.metrics import classification_report"
   ]
  },
  {
   "cell_type": "code",
   "execution_count": 21,
   "id": "715eb8f1",
   "metadata": {},
   "outputs": [],
   "source": [
    "x=df['vectorized_data']\n",
    "y=df['Category']"
   ]
  },
  {
   "cell_type": "code",
   "execution_count": 22,
   "id": "3f64efda",
   "metadata": {},
   "outputs": [],
   "source": [
    "x_train, x_test, y_train, y_test = train_test_split(\n",
    "    x,\n",
    "    y,\n",
    "    test_size=0.3,\n",
    "    random_state=1049\n",
    ")"
   ]
  },
  {
   "cell_type": "code",
   "execution_count": 23,
   "id": "7b16b835",
   "metadata": {},
   "outputs": [],
   "source": [
    "knn=KNeighborsClassifier(n_neighbors = 5, metric = 'euclidean') #using 5 as K "
   ]
  },
  {
   "cell_type": "code",
   "execution_count": 24,
   "id": "73372b27",
   "metadata": {},
   "outputs": [],
   "source": [
    "#note that the vectorized array was embeded as numpy array so inorder to make it ready for analysis we need to flatten it out\n",
    "x_train=np.stack(x_train)\n",
    "x_test=np.stack(x_test)"
   ]
  },
  {
   "cell_type": "code",
   "execution_count": 25,
   "id": "48145612",
   "metadata": {},
   "outputs": [],
   "source": [
    "knn.fit(x_train,y_train)\n",
    "y_predtest=knn.predict(x_test)"
   ]
  },
  {
   "cell_type": "code",
   "execution_count": 26,
   "id": "7fba4865",
   "metadata": {},
   "outputs": [
    {
     "name": "stdout",
     "output_type": "stream",
     "text": [
      "                           precision    recall  f1-score   support\n",
      "\n",
      "                 Advocate       1.00      1.00      1.00         6\n",
      "                     Arts       0.80      1.00      0.89         8\n",
      "       Automation Testing       1.00      0.50      0.67         4\n",
      "               Blockchain       1.00      1.00      1.00        10\n",
      "         Business Analyst       0.57      0.80      0.67         5\n",
      "           Civil Engineer       1.00      0.50      0.67        10\n",
      "             Data Science       1.00      1.00      1.00        15\n",
      "                 Database       1.00      1.00      1.00         8\n",
      "          DevOps Engineer       0.77      0.91      0.83        11\n",
      "         DotNet Developer       1.00      0.82      0.90        11\n",
      "            ETL Developer       0.79      1.00      0.88        11\n",
      "   Electrical Engineering       0.75      1.00      0.86        12\n",
      "                       HR       1.00      0.47      0.64        15\n",
      "                   Hadoop       1.00      1.00      1.00        11\n",
      "       Health and fitness       1.00      0.50      0.67        14\n",
      "           Java Developer       0.91      0.72      0.81        29\n",
      "      Mechanical Engineer       1.00      1.00      1.00        13\n",
      "Network Security Engineer       1.00      0.62      0.77         8\n",
      "       Operations Manager       0.57      1.00      0.73        12\n",
      "                      PMO       1.00      1.00      1.00        12\n",
      "         Python Developer       0.60      1.00      0.75        15\n",
      "            SAP Developer       1.00      0.60      0.75         5\n",
      "                    Sales       1.00      1.00      1.00        13\n",
      "                  Testing       0.85      1.00      0.92        17\n",
      "            Web Designing       1.00      1.00      1.00        14\n",
      "\n",
      "                 accuracy                           0.87       289\n",
      "                macro avg       0.90      0.86      0.86       289\n",
      "             weighted avg       0.90      0.87      0.86       289\n",
      "\n"
     ]
    }
   ],
   "source": [
    "print(classification_report(y_test, y_predtest))"
   ]
  },
  {
   "cell_type": "markdown",
   "id": "cc4e7418",
   "metadata": {},
   "source": [
    "#Now we will check fitting the data with an ensemble classification model Gradient boosting classifier and check the accuracy and F1 score"
   ]
  },
  {
   "cell_type": "code",
   "execution_count": 27,
   "id": "84183930",
   "metadata": {},
   "outputs": [],
   "source": [
    "from sklearn.ensemble import GradientBoostingClassifier"
   ]
  },
  {
   "cell_type": "code",
   "execution_count": 28,
   "id": "e41e55af",
   "metadata": {},
   "outputs": [],
   "source": [
    "gbc=GradientBoostingClassifier(learning_rate=0.1,n_estimators=100)"
   ]
  },
  {
   "cell_type": "code",
   "execution_count": 29,
   "id": "6fcbffc5",
   "metadata": {},
   "outputs": [],
   "source": [
    "gbc.fit(x_train,y_train)\n",
    "y_predtestgbc=gbc.predict(x_test)"
   ]
  },
  {
   "cell_type": "code",
   "execution_count": 30,
   "id": "a3c7b0a2",
   "metadata": {},
   "outputs": [
    {
     "name": "stdout",
     "output_type": "stream",
     "text": [
      "                           precision    recall  f1-score   support\n",
      "\n",
      "                 Advocate       1.00      1.00      1.00         6\n",
      "                     Arts       1.00      1.00      1.00         8\n",
      "       Automation Testing       1.00      1.00      1.00         4\n",
      "               Blockchain       1.00      1.00      1.00        10\n",
      "         Business Analyst       1.00      1.00      1.00         5\n",
      "           Civil Engineer       1.00      1.00      1.00        10\n",
      "             Data Science       1.00      0.73      0.85        15\n",
      "                 Database       1.00      1.00      1.00         8\n",
      "          DevOps Engineer       1.00      1.00      1.00        11\n",
      "         DotNet Developer       1.00      1.00      1.00        11\n",
      "            ETL Developer       1.00      1.00      1.00        11\n",
      "   Electrical Engineering       1.00      1.00      1.00        12\n",
      "                       HR       1.00      1.00      1.00        15\n",
      "                   Hadoop       1.00      1.00      1.00        11\n",
      "       Health and fitness       1.00      1.00      1.00        14\n",
      "           Java Developer       0.88      1.00      0.94        29\n",
      "      Mechanical Engineer       1.00      1.00      1.00        13\n",
      "Network Security Engineer       1.00      1.00      1.00         8\n",
      "       Operations Manager       1.00      1.00      1.00        12\n",
      "                      PMO       1.00      1.00      1.00        12\n",
      "         Python Developer       1.00      1.00      1.00        15\n",
      "            SAP Developer       1.00      1.00      1.00         5\n",
      "                    Sales       1.00      1.00      1.00        13\n",
      "                  Testing       1.00      1.00      1.00        17\n",
      "            Web Designing       1.00      1.00      1.00        14\n",
      "\n",
      "                 accuracy                           0.99       289\n",
      "                macro avg       1.00      0.99      0.99       289\n",
      "             weighted avg       0.99      0.99      0.99       289\n",
      "\n"
     ]
    }
   ],
   "source": [
    "print(classification_report(y_test, y_predtestgbc))"
   ]
  },
  {
   "cell_type": "markdown",
   "id": "988a5b69",
   "metadata": {},
   "source": [
    "#wow ! the results were great when compared to KNN"
   ]
  },
  {
   "cell_type": "raw",
   "id": "5f9fb257",
   "metadata": {},
   "source": [
    "Now we will extract data from real world CV and try fitting our model into it."
   ]
  },
  {
   "cell_type": "code",
   "execution_count": 43,
   "id": "cba651f7",
   "metadata": {},
   "outputs": [],
   "source": [
    "with open (\"resumedata.txt\", 'r') as file: #resumedata.txt is an output file from the \"resume parser driver code\" program\n",
    "    data=file.read()"
   ]
  },
  {
   "cell_type": "code",
   "execution_count": 44,
   "id": "a2d3fcfa",
   "metadata": {},
   "outputs": [
    {
     "data": {
      "text/plain": [
       "\"{'name': 'ACCENTURE Application', 'email': 'mogithmogi3011@gmail.com', 'mobile_number': '8825619388', 'skills': ['Operations', 'Python', 'Pharmaceutical', 'Windows', 'Schedule', 'Engineering', 'Assembly', 'Programming', 'Os', 'C', 'System', 'Sql', 'Cloud', 'Servers', 'Itil', 'Word', 'Twitter', 'P', 'Electronics', 'Analysis', 'Automation', 'Aws', 'Improvement', 'Compliance', 'R', 'Process', 'Business stakeholders'], 'college_name': None, 'degree': ['Diploma in Mechanical Engineering', 'B.E. Mechanical Engineering'], 'designation': ['MongoDB', 'cloud computing', 'DELTA ELECTRONICS', 'Application Development Associate', 'Machine learning'], 'experience': [], 'company_names': ['Amazon'], 'no_of_pages': 1, 'total_experience': 0.0}\""
      ]
     },
     "execution_count": 44,
     "metadata": {},
     "output_type": "execute_result"
    }
   ],
   "source": [
    "data"
   ]
  },
  {
   "cell_type": "markdown",
   "id": "53b31ce5",
   "metadata": {},
   "source": [
    "We have string file, now we'll do the cleaning and pre-processing and make it ready for prediction."
   ]
  },
  {
   "cell_type": "code",
   "execution_count": 45,
   "id": "00c55d00",
   "metadata": {},
   "outputs": [],
   "source": [
    "vect_data=nlp(clean_words(data)).vector"
   ]
  },
  {
   "cell_type": "code",
   "execution_count": 46,
   "id": "a709b36e",
   "metadata": {},
   "outputs": [
    {
     "data": {
      "text/plain": [
       "array([ 0.0806507 , -0.24738899,  0.83444464,  0.7565758 ,  1.7888505 ,\n",
       "       -0.21318665,  0.59077734,  2.607889  , -2.3126903 , -0.39089495,\n",
       "        4.1885962 ,  2.132107  , -3.8840594 ,  2.3537402 , -0.5531936 ,\n",
       "        0.9311784 ,  2.540635  ,  1.8878503 , -1.9018221 , -0.11651053,\n",
       "        0.2858188 ,  1.4764196 , -1.6714324 ,  1.0770444 , -1.5059736 ,\n",
       "       -1.8305569 , -0.9204829 , -1.5873944 , -0.44437414,  0.43179452,\n",
       "        0.07591999,  0.747539  , -1.1723514 ,  0.0474946 ,  1.0745327 ,\n",
       "       -0.16827236,  0.9081156 ,  0.21104454,  1.2436647 ,  0.39408708,\n",
       "        0.5805148 , -0.14812328, -0.16652891,  0.6432002 , -0.9368017 ,\n",
       "        1.0201644 ,  1.2296575 , -2.1319969 , -0.19794177, -1.4271594 ,\n",
       "       -0.28339338,  1.3461612 , -0.59750926, -2.2782116 , -1.2462511 ,\n",
       "        0.71236134, -1.0881042 ,  1.2533371 ,  0.13487093, -1.361728  ,\n",
       "        2.0396159 ,  1.594589  , -2.2090814 , -1.004091  ,  1.0161525 ,\n",
       "        2.0857205 , -1.6362866 , -2.9381897 , -0.18468104,  1.7407407 ,\n",
       "       -1.3495135 ,  0.3910512 , -0.97297776,  0.08725023, -0.5332525 ,\n",
       "        0.5369195 , -1.8548423 ,  0.46189564, -1.9717863 ,  0.11699992,\n",
       "       -1.8377463 , -0.880797  ,  0.14524482,  1.3303922 , -0.43134764,\n",
       "       -0.8452531 ,  0.23803325, -0.82988816,  0.8225901 , -0.3313205 ,\n",
       "       -0.78615415,  1.3946059 ,  1.7232543 , -1.1384972 , -0.6419115 ,\n",
       "       -0.24176253, -0.5642442 , -0.4781436 ,  1.4005203 ,  1.0221403 ,\n",
       "        1.8802552 ,  0.9121845 ,  1.297957  ,  0.8110307 , -0.156743  ,\n",
       "        3.7398012 , -0.21532781, -1.2191105 , -0.85383385, -0.9772855 ,\n",
       "        2.011657  , -0.04830943, -1.0879961 , -0.15769602,  0.19793512,\n",
       "        1.3751262 , -1.9756109 ,  0.26837727, -0.09770516, -2.9426086 ,\n",
       "       -2.243046  , -1.9715166 ,  0.44001684,  1.6039337 ,  0.04567407,\n",
       "       -1.990447  ,  0.04981598, -2.996407  ,  2.1713989 , -1.9810965 ,\n",
       "       -2.05408   ,  1.2851892 ,  2.1296983 ,  0.5222608 ,  0.19646059,\n",
       "       -0.4047223 , -1.1011931 , -0.82294667,  1.6122417 ,  0.81560576,\n",
       "        0.17106149, -0.28748596, -0.09154685,  0.4069338 ,  1.0354851 ,\n",
       "       -0.321601  , -2.2128313 ,  0.27980715,  0.914528  ,  2.1372662 ,\n",
       "        0.06676008,  1.053394  ,  0.13443357,  0.24698436, -1.4267136 ,\n",
       "        0.13624872,  1.6777991 ,  1.3576869 , -0.95842373, -2.0234337 ,\n",
       "       -0.8147006 , -1.0691296 ,  0.10037411,  1.3637071 , -1.1727362 ,\n",
       "       -1.0236486 , -1.6762934 ,  0.76661396,  0.07682206, -0.6707492 ,\n",
       "       -1.5203415 , -0.5215436 , -0.3939048 ,  1.3266795 ,  1.9434477 ,\n",
       "        1.2446278 ,  1.0428381 , -0.12244307, -2.093125  , -0.5846331 ,\n",
       "       -1.6938721 ,  1.5668237 ,  0.74402916, -1.6462635 , -0.1192637 ,\n",
       "        0.90489376, -0.7581949 , -2.0772786 ,  0.709762  ,  0.48968896,\n",
       "       -0.41669536, -1.0740929 , -0.06925601, -1.9116769 ,  1.2231795 ,\n",
       "        1.458836  , -2.242965  , -0.4014996 ,  1.2078524 ,  0.12962127,\n",
       "       -0.8942517 , -0.46871278, -0.36138463, -0.78334475,  2.5623689 ,\n",
       "        0.5187571 , -1.6465982 ,  1.1530155 ,  0.75887084, -1.5726246 ,\n",
       "        0.30028474,  0.49738762, -0.58480585,  2.024377  ,  0.42149588,\n",
       "        1.2737426 ,  1.617101  , -3.5227947 , -0.43399125,  0.7559134 ,\n",
       "       -1.5011533 ,  1.4049286 , -1.2274069 ,  0.4495705 , -0.0146434 ,\n",
       "       -1.5553231 ,  0.664848  ,  1.0860811 ,  1.1896638 , -0.13015132,\n",
       "        1.49475   , -2.152654  , -0.51460195,  0.6601624 ,  1.5273013 ,\n",
       "        0.08364671,  0.19930248, -0.59653753,  0.7393854 ,  0.96573323,\n",
       "       -2.1372426 , -1.2905416 ,  0.17803746,  1.1926726 ,  0.12735318,\n",
       "        0.61225706, -1.2317241 ,  0.34180537,  0.16620503,  0.42117894,\n",
       "        0.21890284, -1.2658733 , -3.329372  , -1.8362511 , -0.77039117,\n",
       "       -1.6709834 ,  0.41658297, -0.6266442 , -0.7279498 ,  0.46982336,\n",
       "       -1.0804892 ,  3.999715  ,  0.67180985,  1.1633642 ,  1.0314319 ,\n",
       "       -0.62728816,  0.08523448,  1.3919638 , -1.3056155 , -0.6924739 ,\n",
       "        0.20106891, -0.01000153,  0.6167313 , -1.0830266 ,  0.14716507,\n",
       "       -1.8507074 ,  0.80672145, -1.3951385 , -0.17511016,  1.1054544 ,\n",
       "        2.227811  ,  0.52706385,  1.2168748 ,  0.11665184,  1.9642    ,\n",
       "       -0.08722195,  1.2679185 ,  1.4065578 , -2.0063672 , -0.36293745,\n",
       "        0.39975306,  0.0236202 , -0.44481865,  0.49688694, -1.2102599 ,\n",
       "        0.4072735 ,  1.018308  , -1.4896463 , -0.562759  ,  1.5213885 ],\n",
       "      dtype=float32)"
      ]
     },
     "execution_count": 46,
     "metadata": {},
     "output_type": "execute_result"
    }
   ],
   "source": [
    "vect_data"
   ]
  },
  {
   "cell_type": "markdown",
   "id": "ce172c5b",
   "metadata": {},
   "source": [
    "Note that our output array is of 1D numpy array, but we need to feed 2D array as input, because model will consider only 2D. \n",
    "You can ignore this if you are gonna predict for a number of CV's. In our case we doing it for just one. so we are reshaping it\n",
    "with .reshape(1,-1)."
   ]
  },
  {
   "cell_type": "code",
   "execution_count": 47,
   "id": "b4cb0278",
   "metadata": {},
   "outputs": [],
   "source": [
    "sample_pred=gbc.predict(vect_data.reshape(1, -1))"
   ]
  },
  {
   "cell_type": "code",
   "execution_count": 48,
   "id": "1283ad69",
   "metadata": {},
   "outputs": [
    {
     "data": {
      "text/plain": [
       "array(['Blockchain'], dtype=object)"
      ]
     },
     "execution_count": 48,
     "metadata": {},
     "output_type": "execute_result"
    }
   ],
   "source": [
    "sample_pred"
   ]
  },
  {
   "cell_type": "markdown",
   "id": "088e2418",
   "metadata": {},
   "source": [
    "! voila it got predicted as blockchain ....we will keep working on tuning model and the data as well..."
   ]
  }
 ],
 "metadata": {
  "kernelspec": {
   "display_name": "Python 3 (ipykernel)",
   "language": "python",
   "name": "python3"
  },
  "language_info": {
   "codemirror_mode": {
    "name": "ipython",
    "version": 3
   },
   "file_extension": ".py",
   "mimetype": "text/x-python",
   "name": "python",
   "nbconvert_exporter": "python",
   "pygments_lexer": "ipython3",
   "version": "3.10.5"
  }
 },
 "nbformat": 4,
 "nbformat_minor": 5
}
