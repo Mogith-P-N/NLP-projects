{
  "cells": [
    {
      "cell_type": "markdown",
      "id": "6a2e6006",
      "metadata": {
        "id": "6a2e6006"
      },
      "source": [
        "# Resume/CV classifier using NLP\n",
        "\n",
        "Our aim is to create an application that should be used by the HR Team to filter the resume based on the Skills.\n",
        "\n",
        "For this, We are going to use a dataset from kaggle clean and pre-process it to fit a suitable classification model to assist the HR team to filter resume based on the job-role. "
      ]
    },
    {
      "cell_type": "markdown",
      "source": [
        "##Dataset\n",
        "The datset for this model has been taken from kaggle, link to the data - *\"https://www.kaggle.com/datasets/jillanisofttech/updated-resume-dataset\"*"
      ],
      "metadata": {
        "id": "Tr736rafLJ0I"
      },
      "id": "Tr736rafLJ0I"
    },
    {
      "cell_type": "markdown",
      "source": [
        "NLP \n",
        "\n",
        "For this problem statement, we are gonna use spacy package which is an open source NLP package to process text data. In particular we are using 'en_core_web_lg' pre-trained package for our analysis.\n",
        "\n",
        "referred from \"https://spacy.io/usage/spacy-101/\""
      ],
      "metadata": {
        "id": "8WIWqNvMLduJ"
      },
      "id": "8WIWqNvMLduJ"
    },
    {
      "cell_type": "code",
      "source": [
        "!python -m spacy download en_core_web_lg"
      ],
      "metadata": {
        "colab": {
          "base_uri": "https://localhost:8080/"
        },
        "id": "af9tOOKPwLoP",
        "outputId": "58d79030-9880-48c4-fe58-d99094eae696"
      },
      "id": "af9tOOKPwLoP",
      "execution_count": null,
      "outputs": [
        {
          "output_type": "stream",
          "name": "stdout",
          "text": [
            "/usr/local/lib/python3.9/dist-packages/torch/cuda/__init__.py:497: UserWarning: Can't initialize NVML\n",
            "  warnings.warn(\"Can't initialize NVML\")\n",
            "2023-03-27 23:36:30.350407: I tensorflow/core/platform/cpu_feature_guard.cc:193] This TensorFlow binary is optimized with oneAPI Deep Neural Network Library (oneDNN) to use the following CPU instructions in performance-critical operations:  AVX2 FMA\n",
            "To enable them in other operations, rebuild TensorFlow with the appropriate compiler flags.\n",
            "2023-03-27 23:36:32.634889: W tensorflow/compiler/xla/stream_executor/platform/default/dso_loader.cc:64] Could not load dynamic library 'libnvinfer.so.7'; dlerror: libnvinfer.so.7: cannot open shared object file: No such file or directory; LD_LIBRARY_PATH: /usr/local/nvidia/lib:/usr/local/nvidia/lib64\n",
            "2023-03-27 23:36:32.635062: W tensorflow/compiler/xla/stream_executor/platform/default/dso_loader.cc:64] Could not load dynamic library 'libnvinfer_plugin.so.7'; dlerror: libnvinfer_plugin.so.7: cannot open shared object file: No such file or directory; LD_LIBRARY_PATH: /usr/local/nvidia/lib:/usr/local/nvidia/lib64\n",
            "2023-03-27 23:36:32.635089: W tensorflow/compiler/tf2tensorrt/utils/py_utils.cc:38] TF-TRT Warning: Cannot dlopen some TensorRT libraries. If you would like to use Nvidia GPU with TensorRT, please make sure the missing libraries mentioned above are installed properly.\n",
            "2023-03-27 23:36:35.481747: E tensorflow/compiler/xla/stream_executor/cuda/cuda_driver.cc:267] failed call to cuInit: CUDA_ERROR_NO_DEVICE: no CUDA-capable device is detected\n",
            "Looking in indexes: https://pypi.org/simple, https://us-python.pkg.dev/colab-wheels/public/simple/\n",
            "Collecting en-core-web-lg==3.5.0\n",
            "  Downloading https://github.com/explosion/spacy-models/releases/download/en_core_web_lg-3.5.0/en_core_web_lg-3.5.0-py3-none-any.whl (587.7 MB)\n",
            "\u001b[2K     \u001b[90m━━━━━━━━━━━━━━━━━━━━━━━━━━━━━━━━━━━━━━━\u001b[0m \u001b[32m587.7/587.7 MB\u001b[0m \u001b[31m1.0 MB/s\u001b[0m eta \u001b[36m0:00:00\u001b[0m\n",
            "\u001b[?25hRequirement already satisfied: spacy<3.6.0,>=3.5.0 in /usr/local/lib/python3.9/dist-packages (from en-core-web-lg==3.5.0) (3.5.1)\n",
            "Requirement already satisfied: thinc<8.2.0,>=8.1.8 in /usr/local/lib/python3.9/dist-packages (from spacy<3.6.0,>=3.5.0->en-core-web-lg==3.5.0) (8.1.9)\n",
            "Requirement already satisfied: jinja2 in /usr/local/lib/python3.9/dist-packages (from spacy<3.6.0,>=3.5.0->en-core-web-lg==3.5.0) (3.1.2)\n",
            "Requirement already satisfied: tqdm<5.0.0,>=4.38.0 in /usr/local/lib/python3.9/dist-packages (from spacy<3.6.0,>=3.5.0->en-core-web-lg==3.5.0) (4.65.0)\n",
            "Requirement already satisfied: spacy-loggers<2.0.0,>=1.0.0 in /usr/local/lib/python3.9/dist-packages (from spacy<3.6.0,>=3.5.0->en-core-web-lg==3.5.0) (1.0.4)\n",
            "Requirement already satisfied: murmurhash<1.1.0,>=0.28.0 in /usr/local/lib/python3.9/dist-packages (from spacy<3.6.0,>=3.5.0->en-core-web-lg==3.5.0) (1.0.9)\n",
            "Requirement already satisfied: numpy>=1.15.0 in /usr/local/lib/python3.9/dist-packages (from spacy<3.6.0,>=3.5.0->en-core-web-lg==3.5.0) (1.22.4)\n",
            "Requirement already satisfied: pydantic!=1.8,!=1.8.1,<1.11.0,>=1.7.4 in /usr/local/lib/python3.9/dist-packages (from spacy<3.6.0,>=3.5.0->en-core-web-lg==3.5.0) (1.10.7)\n",
            "Requirement already satisfied: smart-open<7.0.0,>=5.2.1 in /usr/local/lib/python3.9/dist-packages (from spacy<3.6.0,>=3.5.0->en-core-web-lg==3.5.0) (6.3.0)\n",
            "Requirement already satisfied: spacy-legacy<3.1.0,>=3.0.11 in /usr/local/lib/python3.9/dist-packages (from spacy<3.6.0,>=3.5.0->en-core-web-lg==3.5.0) (3.0.12)\n",
            "Requirement already satisfied: langcodes<4.0.0,>=3.2.0 in /usr/local/lib/python3.9/dist-packages (from spacy<3.6.0,>=3.5.0->en-core-web-lg==3.5.0) (3.3.0)\n",
            "Requirement already satisfied: wasabi<1.2.0,>=0.9.1 in /usr/local/lib/python3.9/dist-packages (from spacy<3.6.0,>=3.5.0->en-core-web-lg==3.5.0) (1.1.1)\n",
            "Requirement already satisfied: catalogue<2.1.0,>=2.0.6 in /usr/local/lib/python3.9/dist-packages (from spacy<3.6.0,>=3.5.0->en-core-web-lg==3.5.0) (2.0.8)\n",
            "Requirement already satisfied: pathy>=0.10.0 in /usr/local/lib/python3.9/dist-packages (from spacy<3.6.0,>=3.5.0->en-core-web-lg==3.5.0) (0.10.1)\n",
            "Requirement already satisfied: packaging>=20.0 in /usr/local/lib/python3.9/dist-packages (from spacy<3.6.0,>=3.5.0->en-core-web-lg==3.5.0) (23.0)\n",
            "Requirement already satisfied: preshed<3.1.0,>=3.0.2 in /usr/local/lib/python3.9/dist-packages (from spacy<3.6.0,>=3.5.0->en-core-web-lg==3.5.0) (3.0.8)\n",
            "Requirement already satisfied: setuptools in /usr/local/lib/python3.9/dist-packages (from spacy<3.6.0,>=3.5.0->en-core-web-lg==3.5.0) (67.6.0)\n",
            "Requirement already satisfied: typer<0.8.0,>=0.3.0 in /usr/local/lib/python3.9/dist-packages (from spacy<3.6.0,>=3.5.0->en-core-web-lg==3.5.0) (0.7.0)\n",
            "Requirement already satisfied: srsly<3.0.0,>=2.4.3 in /usr/local/lib/python3.9/dist-packages (from spacy<3.6.0,>=3.5.0->en-core-web-lg==3.5.0) (2.4.6)\n",
            "Requirement already satisfied: cymem<2.1.0,>=2.0.2 in /usr/local/lib/python3.9/dist-packages (from spacy<3.6.0,>=3.5.0->en-core-web-lg==3.5.0) (2.0.7)\n",
            "Requirement already satisfied: requests<3.0.0,>=2.13.0 in /usr/local/lib/python3.9/dist-packages (from spacy<3.6.0,>=3.5.0->en-core-web-lg==3.5.0) (2.27.1)\n",
            "Requirement already satisfied: typing-extensions>=4.2.0 in /usr/local/lib/python3.9/dist-packages (from pydantic!=1.8,!=1.8.1,<1.11.0,>=1.7.4->spacy<3.6.0,>=3.5.0->en-core-web-lg==3.5.0) (4.5.0)\n",
            "Requirement already satisfied: urllib3<1.27,>=1.21.1 in /usr/local/lib/python3.9/dist-packages (from requests<3.0.0,>=2.13.0->spacy<3.6.0,>=3.5.0->en-core-web-lg==3.5.0) (1.26.15)\n",
            "Requirement already satisfied: certifi>=2017.4.17 in /usr/local/lib/python3.9/dist-packages (from requests<3.0.0,>=2.13.0->spacy<3.6.0,>=3.5.0->en-core-web-lg==3.5.0) (2022.12.7)\n",
            "Requirement already satisfied: charset-normalizer~=2.0.0 in /usr/local/lib/python3.9/dist-packages (from requests<3.0.0,>=2.13.0->spacy<3.6.0,>=3.5.0->en-core-web-lg==3.5.0) (2.0.12)\n",
            "Requirement already satisfied: idna<4,>=2.5 in /usr/local/lib/python3.9/dist-packages (from requests<3.0.0,>=2.13.0->spacy<3.6.0,>=3.5.0->en-core-web-lg==3.5.0) (3.4)\n",
            "Requirement already satisfied: blis<0.8.0,>=0.7.8 in /usr/local/lib/python3.9/dist-packages (from thinc<8.2.0,>=8.1.8->spacy<3.6.0,>=3.5.0->en-core-web-lg==3.5.0) (0.7.9)\n",
            "Requirement already satisfied: confection<1.0.0,>=0.0.1 in /usr/local/lib/python3.9/dist-packages (from thinc<8.2.0,>=8.1.8->spacy<3.6.0,>=3.5.0->en-core-web-lg==3.5.0) (0.0.4)\n",
            "Requirement already satisfied: click<9.0.0,>=7.1.1 in /usr/local/lib/python3.9/dist-packages (from typer<0.8.0,>=0.3.0->spacy<3.6.0,>=3.5.0->en-core-web-lg==3.5.0) (8.1.3)\n",
            "Requirement already satisfied: MarkupSafe>=2.0 in /usr/local/lib/python3.9/dist-packages (from jinja2->spacy<3.6.0,>=3.5.0->en-core-web-lg==3.5.0) (2.1.2)\n",
            "Installing collected packages: en-core-web-lg\n",
            "Successfully installed en-core-web-lg-3.5.0\n",
            "\u001b[38;5;2m✔ Download and installation successful\u001b[0m\n",
            "You can now load the package via spacy.load('en_core_web_lg')\n"
          ]
        }
      ]
    },
    {
      "cell_type": "code",
      "execution_count": null,
      "id": "dc704a71",
      "metadata": {
        "colab": {
          "base_uri": "https://localhost:8080/"
        },
        "id": "dc704a71",
        "outputId": "a52fb761-9948-475e-cf0a-5475b8bb1154"
      },
      "outputs": [
        {
          "output_type": "stream",
          "name": "stderr",
          "text": [
            "/usr/local/lib/python3.9/dist-packages/torch/cuda/__init__.py:497: UserWarning: Can't initialize NVML\n",
            "  warnings.warn(\"Can't initialize NVML\")\n"
          ]
        }
      ],
      "source": [
        "#importing neccessary  spacy modules\n",
        "import spacy #using spacy module for vectorization\n",
        "nlp= spacy.load('en_core_web_lg') #en_core_web_lg is the pre-trained model by spacy\n"
      ]
    },
    {
      "cell_type": "code",
      "source": [
        "!pip install unidecode"
      ],
      "metadata": {
        "id": "suaca1jyb6eh"
      },
      "id": "suaca1jyb6eh",
      "execution_count": null,
      "outputs": []
    },
    {
      "cell_type": "code",
      "execution_count": null,
      "id": "b01dfcd4",
      "metadata": {
        "id": "b01dfcd4"
      },
      "outputs": [],
      "source": [
        "import pandas as pd\n",
        "import numpy as np\n",
        "import re\n",
        "import string\n",
        "import unidecode"
      ]
    },
    {
      "cell_type": "code",
      "execution_count": null,
      "id": "d41aa853",
      "metadata": {
        "id": "d41aa853",
        "outputId": "b3d33257-5842-422c-a1cc-bacf8ffa63fd",
        "colab": {
          "base_uri": "https://localhost:8080/"
        }
      },
      "outputs": [
        {
          "output_type": "stream",
          "name": "stderr",
          "text": [
            "[nltk_data] Downloading package stopwords to /root/nltk_data...\n",
            "[nltk_data]   Unzipping corpora/stopwords.zip.\n"
          ]
        },
        {
          "output_type": "execute_result",
          "data": {
            "text/plain": [
              "True"
            ]
          },
          "metadata": {},
          "execution_count": 6
        }
      ],
      "source": [
        "import nltk\n",
        "from nltk.corpus import stopwords\n",
        "nltk.download('stopwords')"
      ]
    },
    {
      "cell_type": "markdown",
      "source": [
        "We'll read the data and convert it into dataframe."
      ],
      "metadata": {
        "id": "hzWDDcALML4b"
      },
      "id": "hzWDDcALML4b"
    },
    {
      "cell_type": "code",
      "execution_count": null,
      "id": "d86bfdd2",
      "metadata": {
        "id": "d86bfdd2"
      },
      "outputs": [],
      "source": [
        "df=pd.read_csv(\"UpdatedResumeDataSet.csv\") "
      ]
    },
    {
      "cell_type": "code",
      "execution_count": null,
      "id": "dd5c4b67",
      "metadata": {
        "id": "dd5c4b67",
        "outputId": "761df68d-b048-4d02-9acd-33e75440ecb0",
        "colab": {
          "base_uri": "https://localhost:8080/"
        }
      },
      "outputs": [
        {
          "output_type": "execute_result",
          "data": {
            "text/plain": [
              "(962, 2)"
            ]
          },
          "metadata": {},
          "execution_count": 11
        }
      ],
      "source": [
        "df.shape"
      ]
    },
    {
      "cell_type": "markdown",
      "source": [
        "Well we have around 960 samples for this analysis. "
      ],
      "metadata": {
        "id": "pZ4Uw0-3MVQt"
      },
      "id": "pZ4Uw0-3MVQt"
    },
    {
      "cell_type": "code",
      "execution_count": null,
      "id": "f88ecf09",
      "metadata": {
        "id": "f88ecf09",
        "outputId": "a2677751-f3df-4818-8484-eee1099cceb1",
        "colab": {
          "base_uri": "https://localhost:8080/",
          "height": 206
        }
      },
      "outputs": [
        {
          "output_type": "execute_result",
          "data": {
            "text/plain": [
              "       Category                                             Resume\n",
              "0  Data Science  Skills * Programming Languages: Python (pandas...\n",
              "1  Data Science  Education Details \\r\\nMay 2013 to May 2017 B.E...\n",
              "2  Data Science  Areas of Interest Deep Learning, Control Syste...\n",
              "3  Data Science  Skills â¢ R â¢ Python â¢ SAP HANA â¢ Table...\n",
              "4  Data Science  Education Details \\r\\n MCA   YMCAUST,  Faridab..."
            ],
            "text/html": [
              "\n",
              "  <div id=\"df-4fa2ee2f-d702-4cd6-9b51-9c720e9d0591\">\n",
              "    <div class=\"colab-df-container\">\n",
              "      <div>\n",
              "<style scoped>\n",
              "    .dataframe tbody tr th:only-of-type {\n",
              "        vertical-align: middle;\n",
              "    }\n",
              "\n",
              "    .dataframe tbody tr th {\n",
              "        vertical-align: top;\n",
              "    }\n",
              "\n",
              "    .dataframe thead th {\n",
              "        text-align: right;\n",
              "    }\n",
              "</style>\n",
              "<table border=\"1\" class=\"dataframe\">\n",
              "  <thead>\n",
              "    <tr style=\"text-align: right;\">\n",
              "      <th></th>\n",
              "      <th>Category</th>\n",
              "      <th>Resume</th>\n",
              "    </tr>\n",
              "  </thead>\n",
              "  <tbody>\n",
              "    <tr>\n",
              "      <th>0</th>\n",
              "      <td>Data Science</td>\n",
              "      <td>Skills * Programming Languages: Python (pandas...</td>\n",
              "    </tr>\n",
              "    <tr>\n",
              "      <th>1</th>\n",
              "      <td>Data Science</td>\n",
              "      <td>Education Details \\r\\nMay 2013 to May 2017 B.E...</td>\n",
              "    </tr>\n",
              "    <tr>\n",
              "      <th>2</th>\n",
              "      <td>Data Science</td>\n",
              "      <td>Areas of Interest Deep Learning, Control Syste...</td>\n",
              "    </tr>\n",
              "    <tr>\n",
              "      <th>3</th>\n",
              "      <td>Data Science</td>\n",
              "      <td>Skills â¢ R â¢ Python â¢ SAP HANA â¢ Table...</td>\n",
              "    </tr>\n",
              "    <tr>\n",
              "      <th>4</th>\n",
              "      <td>Data Science</td>\n",
              "      <td>Education Details \\r\\n MCA   YMCAUST,  Faridab...</td>\n",
              "    </tr>\n",
              "  </tbody>\n",
              "</table>\n",
              "</div>\n",
              "      <button class=\"colab-df-convert\" onclick=\"convertToInteractive('df-4fa2ee2f-d702-4cd6-9b51-9c720e9d0591')\"\n",
              "              title=\"Convert this dataframe to an interactive table.\"\n",
              "              style=\"display:none;\">\n",
              "        \n",
              "  <svg xmlns=\"http://www.w3.org/2000/svg\" height=\"24px\"viewBox=\"0 0 24 24\"\n",
              "       width=\"24px\">\n",
              "    <path d=\"M0 0h24v24H0V0z\" fill=\"none\"/>\n",
              "    <path d=\"M18.56 5.44l.94 2.06.94-2.06 2.06-.94-2.06-.94-.94-2.06-.94 2.06-2.06.94zm-11 1L8.5 8.5l.94-2.06 2.06-.94-2.06-.94L8.5 2.5l-.94 2.06-2.06.94zm10 10l.94 2.06.94-2.06 2.06-.94-2.06-.94-.94-2.06-.94 2.06-2.06.94z\"/><path d=\"M17.41 7.96l-1.37-1.37c-.4-.4-.92-.59-1.43-.59-.52 0-1.04.2-1.43.59L10.3 9.45l-7.72 7.72c-.78.78-.78 2.05 0 2.83L4 21.41c.39.39.9.59 1.41.59.51 0 1.02-.2 1.41-.59l7.78-7.78 2.81-2.81c.8-.78.8-2.07 0-2.86zM5.41 20L4 18.59l7.72-7.72 1.47 1.35L5.41 20z\"/>\n",
              "  </svg>\n",
              "      </button>\n",
              "      \n",
              "  <style>\n",
              "    .colab-df-container {\n",
              "      display:flex;\n",
              "      flex-wrap:wrap;\n",
              "      gap: 12px;\n",
              "    }\n",
              "\n",
              "    .colab-df-convert {\n",
              "      background-color: #E8F0FE;\n",
              "      border: none;\n",
              "      border-radius: 50%;\n",
              "      cursor: pointer;\n",
              "      display: none;\n",
              "      fill: #1967D2;\n",
              "      height: 32px;\n",
              "      padding: 0 0 0 0;\n",
              "      width: 32px;\n",
              "    }\n",
              "\n",
              "    .colab-df-convert:hover {\n",
              "      background-color: #E2EBFA;\n",
              "      box-shadow: 0px 1px 2px rgba(60, 64, 67, 0.3), 0px 1px 3px 1px rgba(60, 64, 67, 0.15);\n",
              "      fill: #174EA6;\n",
              "    }\n",
              "\n",
              "    [theme=dark] .colab-df-convert {\n",
              "      background-color: #3B4455;\n",
              "      fill: #D2E3FC;\n",
              "    }\n",
              "\n",
              "    [theme=dark] .colab-df-convert:hover {\n",
              "      background-color: #434B5C;\n",
              "      box-shadow: 0px 1px 3px 1px rgba(0, 0, 0, 0.15);\n",
              "      filter: drop-shadow(0px 1px 2px rgba(0, 0, 0, 0.3));\n",
              "      fill: #FFFFFF;\n",
              "    }\n",
              "  </style>\n",
              "\n",
              "      <script>\n",
              "        const buttonEl =\n",
              "          document.querySelector('#df-4fa2ee2f-d702-4cd6-9b51-9c720e9d0591 button.colab-df-convert');\n",
              "        buttonEl.style.display =\n",
              "          google.colab.kernel.accessAllowed ? 'block' : 'none';\n",
              "\n",
              "        async function convertToInteractive(key) {\n",
              "          const element = document.querySelector('#df-4fa2ee2f-d702-4cd6-9b51-9c720e9d0591');\n",
              "          const dataTable =\n",
              "            await google.colab.kernel.invokeFunction('convertToInteractive',\n",
              "                                                     [key], {});\n",
              "          if (!dataTable) return;\n",
              "\n",
              "          const docLinkHtml = 'Like what you see? Visit the ' +\n",
              "            '<a target=\"_blank\" href=https://colab.research.google.com/notebooks/data_table.ipynb>data table notebook</a>'\n",
              "            + ' to learn more about interactive tables.';\n",
              "          element.innerHTML = '';\n",
              "          dataTable['output_type'] = 'display_data';\n",
              "          await google.colab.output.renderOutput(dataTable, element);\n",
              "          const docLink = document.createElement('div');\n",
              "          docLink.innerHTML = docLinkHtml;\n",
              "          element.appendChild(docLink);\n",
              "        }\n",
              "      </script>\n",
              "    </div>\n",
              "  </div>\n",
              "  "
            ]
          },
          "metadata": {},
          "execution_count": 12
        }
      ],
      "source": [
        "df.head()\n"
      ]
    },
    {
      "cell_type": "code",
      "execution_count": null,
      "id": "b785635e",
      "metadata": {
        "id": "b785635e",
        "outputId": "031813a1-3a68-41ad-c238-5eaf8ea9ed50"
      },
      "outputs": [
        {
          "data": {
            "text/plain": [
              "Java Developer               84\n",
              "Testing                      70\n",
              "DevOps Engineer              55\n",
              "Python Developer             48\n",
              "Web Designing                45\n",
              "HR                           44\n",
              "Hadoop                       42\n",
              "Blockchain                   40\n",
              "ETL Developer                40\n",
              "Operations Manager           40\n",
              "Data Science                 40\n",
              "Sales                        40\n",
              "Mechanical Engineer          40\n",
              "Arts                         36\n",
              "Database                     33\n",
              "Electrical Engineering       30\n",
              "Health and fitness           30\n",
              "PMO                          30\n",
              "Business Analyst             28\n",
              "DotNet Developer             28\n",
              "Automation Testing           26\n",
              "Network Security Engineer    25\n",
              "SAP Developer                24\n",
              "Civil Engineer               24\n",
              "Advocate                     20\n",
              "Name: Category, dtype: int64"
            ]
          },
          "execution_count": 15,
          "metadata": {},
          "output_type": "execute_result"
        }
      ],
      "source": [
        "df.Category.value_counts()"
      ]
    },
    {
      "cell_type": "markdown",
      "source": [
        "we have different categories of data and this falls under multiclass classification problem."
      ],
      "metadata": {
        "id": "OeOTNqyKMzfU"
      },
      "id": "OeOTNqyKMzfU"
    },
    {
      "cell_type": "markdown",
      "source": [
        "##Data pre-processing and cleaning"
      ],
      "metadata": {
        "id": "R57_h7BrM8CA"
      },
      "id": "R57_h7BrM8CA"
    },
    {
      "cell_type": "markdown",
      "source": [
        "Our text data consists of special characters, digits, whitespaces, single characters, accented characters, stop words. Which is not gonna contribute a lot while fitting the model. So we gonna strip it and clean it using below function."
      ],
      "metadata": {
        "id": "Q3CthyuHNJHq"
      },
      "id": "Q3CthyuHNJHq"
    },
    {
      "cell_type": "code",
      "execution_count": null,
      "id": "ed14220b",
      "metadata": {
        "id": "ed14220b"
      },
      "outputs": [],
      "source": [
        "#we need to pre-process and clean the data\n",
        "def clean_words(text):\n",
        "    \"\"\"Basic cleaning of texts\"\"\"\n",
        "    \n",
        "    # remove html\n",
        "    text=re.sub(\"(<.*?>)\",\"\",text)\n",
        "    \n",
        "    #remove non-ascii and digits\n",
        "    text=re.sub(\"(\\\\W|\\\\d)\",\" \",text)\n",
        "    \n",
        "    #remove whitespace\n",
        "    text=text.strip()\n",
        "    \n",
        "    #removing single charcters pattern\n",
        "    text=re.sub(pattern='\\s+[a-zA-Z]\\s+' ,repl=\" \", string=text)\n",
        "    \n",
        "    #remove accented characters\n",
        "    text=unidecode.unidecode(text) #we have accented characters like a^ etc, so to remove that we are performing \n",
        "    \n",
        "    #to make words into lowercase\n",
        "    text=text.lower()\n",
        "    \n",
        "    #removing stop words from the paragraph\n",
        "    words = [word for word in text.split() if word.lower() not in stopwords.words('english')]\n",
        "    text = \" \".join(words)\n",
        "    \n",
        "    #here we are avoiding tokenization since the spacy's model takes string or doc as input not list of words\n",
        "    # also we are not performing stemming and lemmatization since it will change the context of skills and other words in resume text\n",
        "    \n",
        "    \n",
        "    return text"
      ]
    },
    {
      "cell_type": "code",
      "execution_count": null,
      "id": "b3c2a447",
      "metadata": {
        "id": "b3c2a447"
      },
      "outputs": [],
      "source": [
        "df['cleaned_text']=df.Resume.map(lambda x: clean_words(x)) #applying function column wise."
      ]
    },
    {
      "cell_type": "code",
      "execution_count": null,
      "id": "bde824f1",
      "metadata": {
        "id": "bde824f1",
        "outputId": "05709025-ccdb-434d-bc49-dee19bd3fd03",
        "colab": {
          "base_uri": "https://localhost:8080/",
          "height": 206
        }
      },
      "outputs": [
        {
          "output_type": "execute_result",
          "data": {
            "text/plain": [
              "       Category                                             Resume  \\\n",
              "0  Data Science  Skills * Programming Languages: Python (pandas...   \n",
              "1  Data Science  Education Details \\r\\nMay 2013 to May 2017 B.E...   \n",
              "2  Data Science  Areas of Interest Deep Learning, Control Syste...   \n",
              "3  Data Science  Skills â¢ R â¢ Python â¢ SAP HANA â¢ Table...   \n",
              "4  Data Science  Education Details \\r\\n MCA   YMCAUST,  Faridab...   \n",
              "\n",
              "                                        cleaned_text  \n",
              "0  skills programming languages python pandas num...  \n",
              "1  education details may may e uit rgpv data scie...  \n",
              "2  areas interest deep learning control system de...  \n",
              "3  skills python sap hana tableau sap hana sql sa...  \n",
              "4  education details mca ymcaust faridabad haryan...  "
            ],
            "text/html": [
              "\n",
              "  <div id=\"df-903d6e64-5f9f-459e-9bae-2edec70d361c\">\n",
              "    <div class=\"colab-df-container\">\n",
              "      <div>\n",
              "<style scoped>\n",
              "    .dataframe tbody tr th:only-of-type {\n",
              "        vertical-align: middle;\n",
              "    }\n",
              "\n",
              "    .dataframe tbody tr th {\n",
              "        vertical-align: top;\n",
              "    }\n",
              "\n",
              "    .dataframe thead th {\n",
              "        text-align: right;\n",
              "    }\n",
              "</style>\n",
              "<table border=\"1\" class=\"dataframe\">\n",
              "  <thead>\n",
              "    <tr style=\"text-align: right;\">\n",
              "      <th></th>\n",
              "      <th>Category</th>\n",
              "      <th>Resume</th>\n",
              "      <th>cleaned_text</th>\n",
              "    </tr>\n",
              "  </thead>\n",
              "  <tbody>\n",
              "    <tr>\n",
              "      <th>0</th>\n",
              "      <td>Data Science</td>\n",
              "      <td>Skills * Programming Languages: Python (pandas...</td>\n",
              "      <td>skills programming languages python pandas num...</td>\n",
              "    </tr>\n",
              "    <tr>\n",
              "      <th>1</th>\n",
              "      <td>Data Science</td>\n",
              "      <td>Education Details \\r\\nMay 2013 to May 2017 B.E...</td>\n",
              "      <td>education details may may e uit rgpv data scie...</td>\n",
              "    </tr>\n",
              "    <tr>\n",
              "      <th>2</th>\n",
              "      <td>Data Science</td>\n",
              "      <td>Areas of Interest Deep Learning, Control Syste...</td>\n",
              "      <td>areas interest deep learning control system de...</td>\n",
              "    </tr>\n",
              "    <tr>\n",
              "      <th>3</th>\n",
              "      <td>Data Science</td>\n",
              "      <td>Skills â¢ R â¢ Python â¢ SAP HANA â¢ Table...</td>\n",
              "      <td>skills python sap hana tableau sap hana sql sa...</td>\n",
              "    </tr>\n",
              "    <tr>\n",
              "      <th>4</th>\n",
              "      <td>Data Science</td>\n",
              "      <td>Education Details \\r\\n MCA   YMCAUST,  Faridab...</td>\n",
              "      <td>education details mca ymcaust faridabad haryan...</td>\n",
              "    </tr>\n",
              "  </tbody>\n",
              "</table>\n",
              "</div>\n",
              "      <button class=\"colab-df-convert\" onclick=\"convertToInteractive('df-903d6e64-5f9f-459e-9bae-2edec70d361c')\"\n",
              "              title=\"Convert this dataframe to an interactive table.\"\n",
              "              style=\"display:none;\">\n",
              "        \n",
              "  <svg xmlns=\"http://www.w3.org/2000/svg\" height=\"24px\"viewBox=\"0 0 24 24\"\n",
              "       width=\"24px\">\n",
              "    <path d=\"M0 0h24v24H0V0z\" fill=\"none\"/>\n",
              "    <path d=\"M18.56 5.44l.94 2.06.94-2.06 2.06-.94-2.06-.94-.94-2.06-.94 2.06-2.06.94zm-11 1L8.5 8.5l.94-2.06 2.06-.94-2.06-.94L8.5 2.5l-.94 2.06-2.06.94zm10 10l.94 2.06.94-2.06 2.06-.94-2.06-.94-.94-2.06-.94 2.06-2.06.94z\"/><path d=\"M17.41 7.96l-1.37-1.37c-.4-.4-.92-.59-1.43-.59-.52 0-1.04.2-1.43.59L10.3 9.45l-7.72 7.72c-.78.78-.78 2.05 0 2.83L4 21.41c.39.39.9.59 1.41.59.51 0 1.02-.2 1.41-.59l7.78-7.78 2.81-2.81c.8-.78.8-2.07 0-2.86zM5.41 20L4 18.59l7.72-7.72 1.47 1.35L5.41 20z\"/>\n",
              "  </svg>\n",
              "      </button>\n",
              "      \n",
              "  <style>\n",
              "    .colab-df-container {\n",
              "      display:flex;\n",
              "      flex-wrap:wrap;\n",
              "      gap: 12px;\n",
              "    }\n",
              "\n",
              "    .colab-df-convert {\n",
              "      background-color: #E8F0FE;\n",
              "      border: none;\n",
              "      border-radius: 50%;\n",
              "      cursor: pointer;\n",
              "      display: none;\n",
              "      fill: #1967D2;\n",
              "      height: 32px;\n",
              "      padding: 0 0 0 0;\n",
              "      width: 32px;\n",
              "    }\n",
              "\n",
              "    .colab-df-convert:hover {\n",
              "      background-color: #E2EBFA;\n",
              "      box-shadow: 0px 1px 2px rgba(60, 64, 67, 0.3), 0px 1px 3px 1px rgba(60, 64, 67, 0.15);\n",
              "      fill: #174EA6;\n",
              "    }\n",
              "\n",
              "    [theme=dark] .colab-df-convert {\n",
              "      background-color: #3B4455;\n",
              "      fill: #D2E3FC;\n",
              "    }\n",
              "\n",
              "    [theme=dark] .colab-df-convert:hover {\n",
              "      background-color: #434B5C;\n",
              "      box-shadow: 0px 1px 3px 1px rgba(0, 0, 0, 0.15);\n",
              "      filter: drop-shadow(0px 1px 2px rgba(0, 0, 0, 0.3));\n",
              "      fill: #FFFFFF;\n",
              "    }\n",
              "  </style>\n",
              "\n",
              "      <script>\n",
              "        const buttonEl =\n",
              "          document.querySelector('#df-903d6e64-5f9f-459e-9bae-2edec70d361c button.colab-df-convert');\n",
              "        buttonEl.style.display =\n",
              "          google.colab.kernel.accessAllowed ? 'block' : 'none';\n",
              "\n",
              "        async function convertToInteractive(key) {\n",
              "          const element = document.querySelector('#df-903d6e64-5f9f-459e-9bae-2edec70d361c');\n",
              "          const dataTable =\n",
              "            await google.colab.kernel.invokeFunction('convertToInteractive',\n",
              "                                                     [key], {});\n",
              "          if (!dataTable) return;\n",
              "\n",
              "          const docLinkHtml = 'Like what you see? Visit the ' +\n",
              "            '<a target=\"_blank\" href=https://colab.research.google.com/notebooks/data_table.ipynb>data table notebook</a>'\n",
              "            + ' to learn more about interactive tables.';\n",
              "          element.innerHTML = '';\n",
              "          dataTable['output_type'] = 'display_data';\n",
              "          await google.colab.output.renderOutput(dataTable, element);\n",
              "          const docLink = document.createElement('div');\n",
              "          docLink.innerHTML = docLinkHtml;\n",
              "          element.appendChild(docLink);\n",
              "        }\n",
              "      </script>\n",
              "    </div>\n",
              "  </div>\n",
              "  "
            ]
          },
          "metadata": {},
          "execution_count": 15
        }
      ],
      "source": [
        "df.head()"
      ]
    },
    {
      "cell_type": "markdown",
      "id": "17e0dbf5",
      "metadata": {
        "id": "17e0dbf5"
      },
      "source": [
        "Now that we have cleaned the text it is ready to vectorize"
      ]
    },
    {
      "cell_type": "markdown",
      "source": [
        "###Vectorizing text data\n",
        "\n",
        "ML algorithms only understood the numerical type data as input, so we need to convert our text data into numerical and fit the model. For this we are applying .vector method from spacy. It will returns a 300 sized uniform vectors for our text model as numpy ndarray."
      ],
      "metadata": {
        "id": "MVCwFaEvNqzI"
      },
      "id": "MVCwFaEvNqzI"
    },
    {
      "cell_type": "code",
      "execution_count": null,
      "id": "861a645b",
      "metadata": {
        "id": "861a645b"
      },
      "outputs": [],
      "source": [
        "df['vectorized_data']=df.cleaned_text.apply(lambda text: nlp(text).vector)"
      ]
    },
    {
      "cell_type": "code",
      "execution_count": null,
      "id": "071488f0",
      "metadata": {
        "id": "071488f0",
        "outputId": "93bbedcd-d140-408f-a2a0-f5f8280dd919",
        "colab": {
          "base_uri": "https://localhost:8080/",
          "height": 337
        }
      },
      "outputs": [
        {
          "output_type": "execute_result",
          "data": {
            "text/plain": [
              "       Category                                             Resume  \\\n",
              "0  Data Science  Skills * Programming Languages: Python (pandas...   \n",
              "1  Data Science  Education Details \\r\\nMay 2013 to May 2017 B.E...   \n",
              "2  Data Science  Areas of Interest Deep Learning, Control Syste...   \n",
              "3  Data Science  Skills â¢ R â¢ Python â¢ SAP HANA â¢ Table...   \n",
              "4  Data Science  Education Details \\r\\n MCA   YMCAUST,  Faridab...   \n",
              "\n",
              "                                        cleaned_text  \\\n",
              "0  skills programming languages python pandas num...   \n",
              "1  education details may may e uit rgpv data scie...   \n",
              "2  areas interest deep learning control system de...   \n",
              "3  skills python sap hana tableau sap hana sql sa...   \n",
              "4  education details mca ymcaust faridabad haryan...   \n",
              "\n",
              "                                     vectorized_data  \n",
              "0  [0.00019259728, -0.063411176, 0.022081006, 0.5...  \n",
              "1  [-0.38565177, 0.41584927, -0.22689901, 0.05342...  \n",
              "2  [-0.34571993, 0.064293616, -0.47398934, 0.1207...  \n",
              "3  [-0.06141665, -0.009636918, -0.60103905, 0.345...  \n",
              "4  [0.102590054, -0.23031569, -0.4390396, -0.2980...  "
            ],
            "text/html": [
              "\n",
              "  <div id=\"df-7c0eb9a2-6d9e-46cd-9cc2-ff84e7035c78\">\n",
              "    <div class=\"colab-df-container\">\n",
              "      <div>\n",
              "<style scoped>\n",
              "    .dataframe tbody tr th:only-of-type {\n",
              "        vertical-align: middle;\n",
              "    }\n",
              "\n",
              "    .dataframe tbody tr th {\n",
              "        vertical-align: top;\n",
              "    }\n",
              "\n",
              "    .dataframe thead th {\n",
              "        text-align: right;\n",
              "    }\n",
              "</style>\n",
              "<table border=\"1\" class=\"dataframe\">\n",
              "  <thead>\n",
              "    <tr style=\"text-align: right;\">\n",
              "      <th></th>\n",
              "      <th>Category</th>\n",
              "      <th>Resume</th>\n",
              "      <th>cleaned_text</th>\n",
              "      <th>vectorized_data</th>\n",
              "    </tr>\n",
              "  </thead>\n",
              "  <tbody>\n",
              "    <tr>\n",
              "      <th>0</th>\n",
              "      <td>Data Science</td>\n",
              "      <td>Skills * Programming Languages: Python (pandas...</td>\n",
              "      <td>skills programming languages python pandas num...</td>\n",
              "      <td>[0.00019259728, -0.063411176, 0.022081006, 0.5...</td>\n",
              "    </tr>\n",
              "    <tr>\n",
              "      <th>1</th>\n",
              "      <td>Data Science</td>\n",
              "      <td>Education Details \\r\\nMay 2013 to May 2017 B.E...</td>\n",
              "      <td>education details may may e uit rgpv data scie...</td>\n",
              "      <td>[-0.38565177, 0.41584927, -0.22689901, 0.05342...</td>\n",
              "    </tr>\n",
              "    <tr>\n",
              "      <th>2</th>\n",
              "      <td>Data Science</td>\n",
              "      <td>Areas of Interest Deep Learning, Control Syste...</td>\n",
              "      <td>areas interest deep learning control system de...</td>\n",
              "      <td>[-0.34571993, 0.064293616, -0.47398934, 0.1207...</td>\n",
              "    </tr>\n",
              "    <tr>\n",
              "      <th>3</th>\n",
              "      <td>Data Science</td>\n",
              "      <td>Skills â¢ R â¢ Python â¢ SAP HANA â¢ Table...</td>\n",
              "      <td>skills python sap hana tableau sap hana sql sa...</td>\n",
              "      <td>[-0.06141665, -0.009636918, -0.60103905, 0.345...</td>\n",
              "    </tr>\n",
              "    <tr>\n",
              "      <th>4</th>\n",
              "      <td>Data Science</td>\n",
              "      <td>Education Details \\r\\n MCA   YMCAUST,  Faridab...</td>\n",
              "      <td>education details mca ymcaust faridabad haryan...</td>\n",
              "      <td>[0.102590054, -0.23031569, -0.4390396, -0.2980...</td>\n",
              "    </tr>\n",
              "  </tbody>\n",
              "</table>\n",
              "</div>\n",
              "      <button class=\"colab-df-convert\" onclick=\"convertToInteractive('df-7c0eb9a2-6d9e-46cd-9cc2-ff84e7035c78')\"\n",
              "              title=\"Convert this dataframe to an interactive table.\"\n",
              "              style=\"display:none;\">\n",
              "        \n",
              "  <svg xmlns=\"http://www.w3.org/2000/svg\" height=\"24px\"viewBox=\"0 0 24 24\"\n",
              "       width=\"24px\">\n",
              "    <path d=\"M0 0h24v24H0V0z\" fill=\"none\"/>\n",
              "    <path d=\"M18.56 5.44l.94 2.06.94-2.06 2.06-.94-2.06-.94-.94-2.06-.94 2.06-2.06.94zm-11 1L8.5 8.5l.94-2.06 2.06-.94-2.06-.94L8.5 2.5l-.94 2.06-2.06.94zm10 10l.94 2.06.94-2.06 2.06-.94-2.06-.94-.94-2.06-.94 2.06-2.06.94z\"/><path d=\"M17.41 7.96l-1.37-1.37c-.4-.4-.92-.59-1.43-.59-.52 0-1.04.2-1.43.59L10.3 9.45l-7.72 7.72c-.78.78-.78 2.05 0 2.83L4 21.41c.39.39.9.59 1.41.59.51 0 1.02-.2 1.41-.59l7.78-7.78 2.81-2.81c.8-.78.8-2.07 0-2.86zM5.41 20L4 18.59l7.72-7.72 1.47 1.35L5.41 20z\"/>\n",
              "  </svg>\n",
              "      </button>\n",
              "      \n",
              "  <style>\n",
              "    .colab-df-container {\n",
              "      display:flex;\n",
              "      flex-wrap:wrap;\n",
              "      gap: 12px;\n",
              "    }\n",
              "\n",
              "    .colab-df-convert {\n",
              "      background-color: #E8F0FE;\n",
              "      border: none;\n",
              "      border-radius: 50%;\n",
              "      cursor: pointer;\n",
              "      display: none;\n",
              "      fill: #1967D2;\n",
              "      height: 32px;\n",
              "      padding: 0 0 0 0;\n",
              "      width: 32px;\n",
              "    }\n",
              "\n",
              "    .colab-df-convert:hover {\n",
              "      background-color: #E2EBFA;\n",
              "      box-shadow: 0px 1px 2px rgba(60, 64, 67, 0.3), 0px 1px 3px 1px rgba(60, 64, 67, 0.15);\n",
              "      fill: #174EA6;\n",
              "    }\n",
              "\n",
              "    [theme=dark] .colab-df-convert {\n",
              "      background-color: #3B4455;\n",
              "      fill: #D2E3FC;\n",
              "    }\n",
              "\n",
              "    [theme=dark] .colab-df-convert:hover {\n",
              "      background-color: #434B5C;\n",
              "      box-shadow: 0px 1px 3px 1px rgba(0, 0, 0, 0.15);\n",
              "      filter: drop-shadow(0px 1px 2px rgba(0, 0, 0, 0.3));\n",
              "      fill: #FFFFFF;\n",
              "    }\n",
              "  </style>\n",
              "\n",
              "      <script>\n",
              "        const buttonEl =\n",
              "          document.querySelector('#df-7c0eb9a2-6d9e-46cd-9cc2-ff84e7035c78 button.colab-df-convert');\n",
              "        buttonEl.style.display =\n",
              "          google.colab.kernel.accessAllowed ? 'block' : 'none';\n",
              "\n",
              "        async function convertToInteractive(key) {\n",
              "          const element = document.querySelector('#df-7c0eb9a2-6d9e-46cd-9cc2-ff84e7035c78');\n",
              "          const dataTable =\n",
              "            await google.colab.kernel.invokeFunction('convertToInteractive',\n",
              "                                                     [key], {});\n",
              "          if (!dataTable) return;\n",
              "\n",
              "          const docLinkHtml = 'Like what you see? Visit the ' +\n",
              "            '<a target=\"_blank\" href=https://colab.research.google.com/notebooks/data_table.ipynb>data table notebook</a>'\n",
              "            + ' to learn more about interactive tables.';\n",
              "          element.innerHTML = '';\n",
              "          dataTable['output_type'] = 'display_data';\n",
              "          await google.colab.output.renderOutput(dataTable, element);\n",
              "          const docLink = document.createElement('div');\n",
              "          docLink.innerHTML = docLinkHtml;\n",
              "          element.appendChild(docLink);\n",
              "        }\n",
              "      </script>\n",
              "    </div>\n",
              "  </div>\n",
              "  "
            ]
          },
          "metadata": {},
          "execution_count": 17
        }
      ],
      "source": [
        "df.head()"
      ]
    },
    {
      "cell_type": "markdown",
      "id": "d11b6c8f",
      "metadata": {
        "id": "d11b6c8f"
      },
      "source": [
        "The pre-processing and vectoriztion part is done, Now we will proceed with fitting a best model for the dataset and check if it accurately predicts the results"
      ]
    },
    {
      "cell_type": "markdown",
      "source": [
        "##Applying ML classification"
      ],
      "metadata": {
        "id": "WAyJzNVcOWGe"
      },
      "id": "WAyJzNVcOWGe"
    },
    {
      "cell_type": "code",
      "execution_count": null,
      "id": "009ffd76",
      "metadata": {
        "id": "009ffd76"
      },
      "outputs": [],
      "source": [
        "#importing necessary ML packages\n",
        "from sklearn.model_selection import train_test_split\n",
        "from sklearn.preprocessing import MinMaxScaler\n",
        "from  sklearn.neighbors import KNeighborsClassifier\n",
        "from sklearn.metrics import classification_report"
      ]
    },
    {
      "cell_type": "code",
      "execution_count": null,
      "id": "715eb8f1",
      "metadata": {
        "id": "715eb8f1"
      },
      "outputs": [],
      "source": [
        "x=df['vectorized_data']\n",
        "y=df['Category']"
      ]
    },
    {
      "cell_type": "code",
      "execution_count": null,
      "id": "3f64efda",
      "metadata": {
        "id": "3f64efda"
      },
      "outputs": [],
      "source": [
        "x_train, x_test, y_train, y_test = train_test_split(\n",
        "    x,\n",
        "    y,\n",
        "    test_size=0.3,\n",
        "    random_state=1049\n",
        ")"
      ]
    },
    {
      "cell_type": "markdown",
      "source": [
        "###KNN"
      ],
      "metadata": {
        "id": "mvd2Tx0lOk0M"
      },
      "id": "mvd2Tx0lOk0M"
    },
    {
      "cell_type": "code",
      "execution_count": null,
      "id": "7b16b835",
      "metadata": {
        "id": "7b16b835"
      },
      "outputs": [],
      "source": [
        "knn=KNeighborsClassifier(n_neighbors = 5, metric = 'euclidean') #using k=5"
      ]
    },
    {
      "cell_type": "markdown",
      "source": [
        "Note that our vectorized array was an embedded numpy array so inorder to make it ready for analysis we need to flatten it out."
      ],
      "metadata": {
        "id": "ppGB-iEvOtiz"
      },
      "id": "ppGB-iEvOtiz"
    },
    {
      "cell_type": "code",
      "execution_count": null,
      "id": "73372b27",
      "metadata": {
        "id": "73372b27"
      },
      "outputs": [],
      "source": [
        "#using numpy stack method\n",
        "x_train=np.stack(x_train)\n",
        "x_test=np.stack(x_test)"
      ]
    },
    {
      "cell_type": "code",
      "execution_count": null,
      "id": "48145612",
      "metadata": {
        "id": "48145612"
      },
      "outputs": [],
      "source": [
        "knn.fit(x_train,y_train)\n",
        "y_predtest=knn.predict(x_test)"
      ]
    },
    {
      "cell_type": "code",
      "execution_count": null,
      "id": "7fba4865",
      "metadata": {
        "id": "7fba4865",
        "outputId": "702d50ac-ebd6-4e0b-ee95-089b537cbdf7",
        "colab": {
          "base_uri": "https://localhost:8080/"
        }
      },
      "outputs": [
        {
          "output_type": "stream",
          "name": "stdout",
          "text": [
            "                           precision    recall  f1-score   support\n",
            "\n",
            "                 Advocate       1.00      1.00      1.00         6\n",
            "                     Arts       0.80      1.00      0.89         8\n",
            "       Automation Testing       1.00      0.50      0.67         4\n",
            "               Blockchain       1.00      1.00      1.00        10\n",
            "         Business Analyst       0.57      0.80      0.67         5\n",
            "           Civil Engineer       1.00      0.50      0.67        10\n",
            "             Data Science       1.00      1.00      1.00        15\n",
            "                 Database       1.00      1.00      1.00         8\n",
            "          DevOps Engineer       0.77      0.91      0.83        11\n",
            "         DotNet Developer       1.00      0.82      0.90        11\n",
            "            ETL Developer       0.79      1.00      0.88        11\n",
            "   Electrical Engineering       0.75      1.00      0.86        12\n",
            "                       HR       1.00      0.47      0.64        15\n",
            "                   Hadoop       1.00      1.00      1.00        11\n",
            "       Health and fitness       1.00      0.50      0.67        14\n",
            "           Java Developer       0.91      0.72      0.81        29\n",
            "      Mechanical Engineer       1.00      1.00      1.00        13\n",
            "Network Security Engineer       1.00      0.62      0.77         8\n",
            "       Operations Manager       0.57      1.00      0.73        12\n",
            "                      PMO       1.00      1.00      1.00        12\n",
            "         Python Developer       0.60      1.00      0.75        15\n",
            "            SAP Developer       1.00      0.60      0.75         5\n",
            "                    Sales       1.00      1.00      1.00        13\n",
            "                  Testing       0.85      1.00      0.92        17\n",
            "            Web Designing       1.00      1.00      1.00        14\n",
            "\n",
            "                 accuracy                           0.87       289\n",
            "                macro avg       0.90      0.86      0.86       289\n",
            "             weighted avg       0.90      0.87      0.86       289\n",
            "\n"
          ]
        }
      ],
      "source": [
        "print(classification_report(y_test, y_predtest))"
      ]
    },
    {
      "cell_type": "markdown",
      "id": "cc4e7418",
      "metadata": {
        "id": "cc4e7418"
      },
      "source": [
        "### Gradient boosting classifier\n",
        "Now we will check fitting the data with an ensemble classification model Gradient boosting classifier and check the accuracy and F1 score"
      ]
    },
    {
      "cell_type": "code",
      "execution_count": null,
      "id": "84183930",
      "metadata": {
        "id": "84183930"
      },
      "outputs": [],
      "source": [
        "from sklearn.ensemble import GradientBoostingClassifier"
      ]
    },
    {
      "cell_type": "code",
      "execution_count": null,
      "id": "e41e55af",
      "metadata": {
        "id": "e41e55af"
      },
      "outputs": [],
      "source": [
        "gbc=GradientBoostingClassifier(learning_rate=0.1,n_estimators=100)"
      ]
    },
    {
      "cell_type": "code",
      "execution_count": null,
      "id": "6fcbffc5",
      "metadata": {
        "id": "6fcbffc5"
      },
      "outputs": [],
      "source": [
        "gbc.fit(x_train,y_train)\n",
        "y_predtestgbc=gbc.predict(x_test)"
      ]
    },
    {
      "cell_type": "code",
      "execution_count": null,
      "id": "a3c7b0a2",
      "metadata": {
        "id": "a3c7b0a2",
        "outputId": "010389fd-67b0-480e-8874-0e4a3a2e6749",
        "colab": {
          "base_uri": "https://localhost:8080/"
        }
      },
      "outputs": [
        {
          "output_type": "stream",
          "name": "stdout",
          "text": [
            "                           precision    recall  f1-score   support\n",
            "\n",
            "                 Advocate       1.00      1.00      1.00         6\n",
            "                     Arts       1.00      1.00      1.00         8\n",
            "       Automation Testing       1.00      1.00      1.00         4\n",
            "               Blockchain       1.00      1.00      1.00        10\n",
            "         Business Analyst       1.00      1.00      1.00         5\n",
            "           Civil Engineer       1.00      1.00      1.00        10\n",
            "             Data Science       1.00      0.73      0.85        15\n",
            "                 Database       1.00      1.00      1.00         8\n",
            "          DevOps Engineer       1.00      0.91      0.95        11\n",
            "         DotNet Developer       1.00      1.00      1.00        11\n",
            "            ETL Developer       1.00      1.00      1.00        11\n",
            "   Electrical Engineering       1.00      1.00      1.00        12\n",
            "                       HR       1.00      1.00      1.00        15\n",
            "                   Hadoop       1.00      1.00      1.00        11\n",
            "       Health and fitness       1.00      1.00      1.00        14\n",
            "           Java Developer       0.88      1.00      0.94        29\n",
            "      Mechanical Engineer       1.00      1.00      1.00        13\n",
            "Network Security Engineer       1.00      1.00      1.00         8\n",
            "       Operations Manager       1.00      1.00      1.00        12\n",
            "                      PMO       1.00      1.00      1.00        12\n",
            "         Python Developer       1.00      1.00      1.00        15\n",
            "            SAP Developer       0.83      1.00      0.91         5\n",
            "                    Sales       1.00      1.00      1.00        13\n",
            "                  Testing       1.00      1.00      1.00        17\n",
            "            Web Designing       1.00      1.00      1.00        14\n",
            "\n",
            "                 accuracy                           0.98       289\n",
            "                macro avg       0.99      0.99      0.99       289\n",
            "             weighted avg       0.98      0.98      0.98       289\n",
            "\n"
          ]
        }
      ],
      "source": [
        "print(classification_report(y_test, y_predtestgbc))"
      ]
    },
    {
      "cell_type": "markdown",
      "id": "988a5b69",
      "metadata": {
        "id": "988a5b69"
      },
      "source": [
        "wow!...The results were great when compared to KNN"
      ]
    },
    {
      "cell_type": "markdown",
      "source": [
        "##Model testing"
      ],
      "metadata": {
        "id": "bmTi_PUWPZB6"
      },
      "id": "bmTi_PUWPZB6"
    },
    {
      "cell_type": "raw",
      "id": "5f9fb257",
      "metadata": {
        "id": "5f9fb257"
      },
      "source": [
        "Now we will extract data from real world CV and try fitting our model into it."
      ]
    },
    {
      "cell_type": "markdown",
      "id": "53b31ce5",
      "metadata": {
        "id": "53b31ce5"
      },
      "source": [
        "We have string file, now we'll do the cleaning and pre-processing and make it ready for prediction."
      ]
    },
    {
      "cell_type": "code",
      "source": [
        "with open (\"resumedata.txt\", 'r') as file: #resumedata.txt is an output file from the \"resume parser driver code\" program\n",
        "    data_str=file.read()"
      ],
      "metadata": {
        "id": "tlKmLkehg-e4"
      },
      "id": "tlKmLkehg-e4",
      "execution_count": null,
      "outputs": []
    },
    {
      "cell_type": "code",
      "execution_count": null,
      "id": "00c55d00",
      "metadata": {
        "id": "00c55d00"
      },
      "outputs": [],
      "source": [
        "vect_data=nlp(clean_words(data_str)).vector"
      ]
    },
    {
      "cell_type": "code",
      "execution_count": null,
      "id": "a709b36e",
      "metadata": {
        "id": "a709b36e",
        "outputId": "d04895eb-b65f-40bf-86ed-773ce6157786",
        "colab": {
          "base_uri": "https://localhost:8080/"
        }
      },
      "outputs": [
        {
          "output_type": "execute_result",
          "data": {
            "text/plain": [
              "array([-0.03519086, -0.23032434,  0.8617982 ,  0.7763227 ,  1.4544411 ,\n",
              "       -0.38665673,  0.51583856,  2.6982753 , -2.0374744 , -0.65372753,\n",
              "        3.7231057 ,  2.0689526 , -3.488773  ,  1.9285731 , -0.6332722 ,\n",
              "        0.68342286,  2.2526276 ,  1.5785108 , -1.6024902 , -0.2917276 ,\n",
              "        0.4299252 ,  1.3061293 , -1.8252627 ,  0.5566585 , -1.5120682 ,\n",
              "       -1.6978103 , -0.47150263, -1.5305506 , -0.51427376,  0.5980255 ,\n",
              "       -0.00430435,  0.73801225, -1.0413609 ,  0.06293961,  0.8704292 ,\n",
              "       -0.4150487 ,  0.29026455,  0.17028241,  1.4742746 ,  0.41138595,\n",
              "        0.58001614, -0.28210592, -0.3220857 ,  0.29367995, -1.1440262 ,\n",
              "        1.0020949 ,  1.0268222 , -1.836038  , -0.11047358, -1.2677326 ,\n",
              "        0.09761833,  1.331491  , -0.33938974, -2.1910796 , -1.2874818 ,\n",
              "        0.75148696, -1.3914795 ,  1.5129235 ,  0.35978946, -1.4824693 ,\n",
              "        1.6968132 ,  1.5539579 , -1.9627119 , -0.43256775,  1.2096732 ,\n",
              "        2.1433537 , -1.7191191 , -2.7408767 , -0.07127384,  1.6792749 ,\n",
              "       -1.1200631 ,  0.3839228 , -0.79768133,  0.15209395, -0.3572329 ,\n",
              "        1.0125437 , -1.3724439 ,  0.37879124, -1.3236694 ,  0.11308614,\n",
              "       -1.7189741 , -0.95990264,  0.2554735 ,  1.5129306 , -0.21245988,\n",
              "       -0.86255485,  0.5547057 , -0.99908924,  0.9028127 , -0.4260695 ,\n",
              "       -1.022885  ,  1.0462291 ,  1.5761313 , -1.3121377 , -0.6650944 ,\n",
              "       -0.1979244 , -0.37708044, -0.8655036 ,  1.1017697 ,  0.98434025,\n",
              "        1.8747362 ,  0.8997283 ,  1.1906374 ,  0.90057784, -0.14238916,\n",
              "        3.5244153 , -0.40926543, -1.0488555 , -0.6466042 , -0.7760492 ,\n",
              "        1.887587  ,  0.20992315, -1.0134184 , -0.04649002,  0.0303937 ,\n",
              "        1.4509081 , -1.9985639 ,  0.12192012, -0.41259193, -2.4757597 ,\n",
              "       -2.1654472 , -1.9061761 ,  0.5293719 ,  1.1634877 , -0.04563235,\n",
              "       -1.7938113 , -0.15646413, -3.0685136 ,  1.8786085 , -1.4133153 ,\n",
              "       -1.5583365 ,  1.0219092 ,  2.052418  ,  0.23656437,  0.36349484,\n",
              "       -0.3823923 , -1.0625205 , -0.54596525,  1.4216186 ,  0.49384892,\n",
              "        0.10076948, -0.20367761, -0.06192382,  0.66143703,  1.1814604 ,\n",
              "       -0.43057853, -1.7575907 ,  0.10459299,  0.7670087 ,  1.8787363 ,\n",
              "        0.43640852,  1.1583121 ,  0.06221679,  0.09932701, -1.4608656 ,\n",
              "        0.04113285,  1.5578476 ,  1.5038561 , -0.5867677 , -1.7624692 ,\n",
              "       -0.62529236, -0.7252046 ,  0.16399746,  1.1543508 , -1.2760729 ,\n",
              "       -0.75210536, -1.6006745 ,  0.82932365,  0.14869171, -0.8216029 ,\n",
              "       -1.5487558 , -0.48612896, -0.34568906,  1.0434793 ,  1.8941085 ,\n",
              "        1.3561406 ,  0.9300003 ,  0.1968381 , -2.234164  , -0.7672087 ,\n",
              "       -1.2341676 ,  1.6683338 ,  0.38087052, -1.6633409 , -0.15444857,\n",
              "        0.8023904 , -0.92271477, -1.7801257 ,  0.5940137 ,  0.31883016,\n",
              "       -0.01827372, -0.9866816 ,  0.15805544, -1.6123843 ,  0.9975724 ,\n",
              "        1.6476161 , -2.1780865 , -0.34298074,  1.2331766 ,  0.03472296,\n",
              "       -0.88252795, -0.6814038 , -0.4009608 , -0.7891764 ,  2.5371957 ,\n",
              "        0.86011595, -1.8217927 ,  0.68838584,  0.6735484 , -1.3081402 ,\n",
              "        0.00488982,  0.2846968 , -0.5611617 ,  1.6873057 ,  0.80501014,\n",
              "        1.3871611 ,  1.445598  , -2.99148   , -0.10598745,  0.7391207 ,\n",
              "       -1.3254261 ,  1.5608779 , -1.199491  ,  0.38644373,  0.12015358,\n",
              "       -1.0909209 ,  0.8623528 ,  0.8248288 ,  1.2246644 , -0.00438428,\n",
              "        1.5275996 , -2.0666068 , -0.50097877,  0.84154654,  1.3188295 ,\n",
              "        0.26522514,  0.742126  , -0.5823246 ,  1.1075971 ,  0.860895  ,\n",
              "       -2.2079105 , -1.244734  , -0.23407672,  1.3061504 ,  0.30497387,\n",
              "        0.43313962, -1.5406895 , -0.11157203,  0.22152026,  0.3821706 ,\n",
              "        0.1887164 , -1.3309717 , -3.0367267 , -1.5978985 , -0.79676163,\n",
              "       -1.452689  ,  0.6856745 , -0.6484673 , -0.81568086,  0.8280082 ,\n",
              "       -1.0510387 ,  3.5934176 ,  0.8364239 ,  0.9484137 ,  0.8228143 ,\n",
              "       -0.53684986,  0.3272899 ,  1.7923363 , -1.198664  , -0.94782865,\n",
              "       -0.01709303, -0.40160146,  0.14405712, -0.7259057 , -0.01802816,\n",
              "       -1.9598933 ,  0.75930864, -1.195451  , -0.34655282,  1.1399066 ,\n",
              "        2.1582146 ,  0.30529827,  0.8793309 ,  0.25533614,  1.6305193 ,\n",
              "       -0.09299661,  1.0592628 ,  1.2115018 , -1.4617288 , -0.16058685,\n",
              "        0.22785996, -0.14625606, -0.33143744,  0.6035573 , -0.93151367,\n",
              "        0.4768029 ,  0.7685245 , -1.6190218 , -0.5708925 ,  1.6625521 ],\n",
              "      dtype=float32)"
            ]
          },
          "metadata": {},
          "execution_count": 37
        }
      ],
      "source": [
        "vect_data"
      ]
    },
    {
      "cell_type": "markdown",
      "id": "ce172c5b",
      "metadata": {
        "id": "ce172c5b"
      },
      "source": [
        "Note that our output array is of 1D numpy array, but we need to feed 2D array as input, because model will consider only 2D. \n",
        "You can ignore this if you are gonna predict for a number of CV's. In our case we doing it for just one. so we are reshaping it\n",
        "with .reshape(1,-1)."
      ]
    },
    {
      "cell_type": "code",
      "execution_count": null,
      "id": "b4cb0278",
      "metadata": {
        "id": "b4cb0278"
      },
      "outputs": [],
      "source": [
        "sample_pred=gbc.predict(vect_data.reshape(1, -1))"
      ]
    },
    {
      "cell_type": "code",
      "execution_count": null,
      "id": "1283ad69",
      "metadata": {
        "id": "1283ad69",
        "outputId": "15409363-e361-468b-9bb4-54ecc45304cc",
        "colab": {
          "base_uri": "https://localhost:8080/"
        }
      },
      "outputs": [
        {
          "output_type": "execute_result",
          "data": {
            "text/plain": [
              "array(['Java Developer'], dtype=object)"
            ]
          },
          "metadata": {},
          "execution_count": 39
        }
      ],
      "source": [
        "sample_pred"
      ]
    },
    {
      "cell_type": "markdown",
      "id": "088e2418",
      "metadata": {
        "id": "088e2418"
      },
      "source": [
        "Oh okay !... it got predicted as java developer though ....we will keep working on tuning model and the data as well..."
      ]
    }
  ],
  "metadata": {
    "kernelspec": {
      "display_name": "Python 3 (ipykernel)",
      "language": "python",
      "name": "python3"
    },
    "language_info": {
      "codemirror_mode": {
        "name": "ipython",
        "version": 3
      },
      "file_extension": ".py",
      "mimetype": "text/x-python",
      "name": "python",
      "nbconvert_exporter": "python",
      "pygments_lexer": "ipython3",
      "version": "3.10.5"
    },
    "colab": {
      "provenance": []
    }
  },
  "nbformat": 4,
  "nbformat_minor": 5
}